{
 "cells": [
  {
   "cell_type": "code",
   "execution_count": 2,
   "metadata": {},
   "outputs": [],
   "source": [
    "import pandas as pd"
   ]
  },
  {
   "cell_type": "code",
   "execution_count": 3,
   "metadata": {},
   "outputs": [],
   "source": [
    "data = pd.read_csv('./data/팡팡팡_20221222_result.csv', encoding='utf-8-sig')"
   ]
  },
  {
   "cell_type": "code",
   "execution_count": 4,
   "metadata": {},
   "outputs": [
    {
     "data": {
      "text/html": [
       "<div>\n",
       "<style scoped>\n",
       "    .dataframe tbody tr th:only-of-type {\n",
       "        vertical-align: middle;\n",
       "    }\n",
       "\n",
       "    .dataframe tbody tr th {\n",
       "        vertical-align: top;\n",
       "    }\n",
       "\n",
       "    .dataframe thead th {\n",
       "        text-align: right;\n",
       "    }\n",
       "</style>\n",
       "<table border=\"1\" class=\"dataframe\">\n",
       "  <thead>\n",
       "    <tr style=\"text-align: right;\">\n",
       "      <th></th>\n",
       "      <th>reviews</th>\n",
       "      <th>sentiment</th>\n",
       "      <th>price</th>\n",
       "      <th>drink</th>\n",
       "      <th>dessert</th>\n",
       "      <th>service</th>\n",
       "      <th>customers</th>\n",
       "      <th>interior</th>\n",
       "      <th>view</th>\n",
       "      <th>parking</th>\n",
       "      <th>trash</th>\n",
       "    </tr>\n",
       "  </thead>\n",
       "  <tbody>\n",
       "    <tr>\n",
       "      <th>0</th>\n",
       "      <td>빵 종류도 많고 맛있어요</td>\n",
       "      <td>1</td>\n",
       "      <td>0</td>\n",
       "      <td>0</td>\n",
       "      <td>1</td>\n",
       "      <td>0</td>\n",
       "      <td>0</td>\n",
       "      <td>0</td>\n",
       "      <td>0</td>\n",
       "      <td>0</td>\n",
       "      <td>0</td>\n",
       "    </tr>\n",
       "    <tr>\n",
       "      <th>1</th>\n",
       "      <td>매장이 엄청 넓고</td>\n",
       "      <td>1</td>\n",
       "      <td>0</td>\n",
       "      <td>0</td>\n",
       "      <td>0</td>\n",
       "      <td>0</td>\n",
       "      <td>0</td>\n",
       "      <td>1</td>\n",
       "      <td>0</td>\n",
       "      <td>0</td>\n",
       "      <td>0</td>\n",
       "    </tr>\n",
       "    <tr>\n",
       "      <th>2</th>\n",
       "      <td>빵 종류도 진짜 많아요</td>\n",
       "      <td>1</td>\n",
       "      <td>0</td>\n",
       "      <td>0</td>\n",
       "      <td>1</td>\n",
       "      <td>0</td>\n",
       "      <td>0</td>\n",
       "      <td>0</td>\n",
       "      <td>0</td>\n",
       "      <td>0</td>\n",
       "      <td>0</td>\n",
       "    </tr>\n",
       "    <tr>\n",
       "      <th>3</th>\n",
       "      <td>소금 빵 진짜 맛있어요.</td>\n",
       "      <td>1</td>\n",
       "      <td>0</td>\n",
       "      <td>0</td>\n",
       "      <td>1</td>\n",
       "      <td>0</td>\n",
       "      <td>0</td>\n",
       "      <td>0</td>\n",
       "      <td>0</td>\n",
       "      <td>0</td>\n",
       "      <td>0</td>\n",
       "    </tr>\n",
       "    <tr>\n",
       "      <th>4</th>\n",
       "      <td>강추!!!</td>\n",
       "      <td>1</td>\n",
       "      <td>0</td>\n",
       "      <td>0</td>\n",
       "      <td>0</td>\n",
       "      <td>0</td>\n",
       "      <td>0</td>\n",
       "      <td>0</td>\n",
       "      <td>0</td>\n",
       "      <td>0</td>\n",
       "      <td>1</td>\n",
       "    </tr>\n",
       "  </tbody>\n",
       "</table>\n",
       "</div>"
      ],
      "text/plain": [
       "         reviews  sentiment  price  drink  dessert  service  customers  \\\n",
       "0  빵 종류도 많고 맛있어요          1      0      0        1        0          0   \n",
       "1      매장이 엄청 넓고          1      0      0        0        0          0   \n",
       "2   빵 종류도 진짜 많아요          1      0      0        1        0          0   \n",
       "3  소금 빵 진짜 맛있어요.          1      0      0        1        0          0   \n",
       "4          강추!!!          1      0      0        0        0          0   \n",
       "\n",
       "   interior  view  parking  trash  \n",
       "0         0     0        0      0  \n",
       "1         1     0        0      0  \n",
       "2         0     0        0      0  \n",
       "3         0     0        0      0  \n",
       "4         0     0        0      1  "
      ]
     },
     "execution_count": 4,
     "metadata": {},
     "output_type": "execute_result"
    }
   ],
   "source": [
    "data.head()"
   ]
  },
  {
   "cell_type": "code",
   "execution_count": 9,
   "metadata": {},
   "outputs": [
    {
     "data": {
      "text/plain": [
       "0.9141716566866267"
      ]
     },
     "execution_count": 9,
     "metadata": {},
     "output_type": "execute_result"
    }
   ],
   "source": [
    "# 전체 긍부정\n",
    "total_pn = len(data.loc[data['sentiment']==1])/len(data)\n",
    "total_pn"
   ]
  },
  {
   "cell_type": "code",
   "execution_count": 31,
   "metadata": {},
   "outputs": [
    {
     "name": "stdout",
     "output_type": "stream",
     "text": [
      "[0.5238095238095238, 0.925, 0.9142857142857143, 0.65, 0.3333333333333333, 0.9716312056737588, 1.0, 0.8333333333333334, 0.9710144927536232]\n"
     ]
    }
   ],
   "source": [
    "# 요소별 긍부정\n",
    "arr = [\"price\", \"drink\", \"dessert\", \"service\", \"customers\", \"interior\", \"view\", \"parking\", \"trash\"]\n",
    "arr_pn = []\n",
    "for i in arr:\n",
    "    pn = len(data.loc[(data[f\"{i}\"]==1) & (data['sentiment']==1)])/len(data.loc[data[f\"{i}\"]==1])\n",
    "    arr_pn.append(pn)\n",
    "print(arr_pn)"
   ]
  },
  {
   "cell_type": "code",
   "execution_count": 37,
   "metadata": {},
   "outputs": [
    {
     "name": "stdout",
     "output_type": "stream",
     "text": [
      "[8, 4, 5, 7, 9, 2, 1, 6, 3]\n"
     ]
    }
   ],
   "source": [
    "# 요소별 랭킹 (순위가 높을수록 긍정이 높음)\n",
    "sorted_arr = sorted(arr_pn, reverse=True)\n",
    "\n",
    "rk =[]\n",
    "for i in arr_pn:\n",
    "    rk.append(sorted_arr.index(i)+1)\n",
    "print(rk)"
   ]
  },
  {
   "cell_type": "code",
   "execution_count": 41,
   "metadata": {},
   "outputs": [
    {
     "name": "stdout",
     "output_type": "stream",
     "text": [
      "['팡팡팡', 0.9141716566866267, 8, 0.5238095238095238, 4, 0.925, 5, 0.9142857142857143, 7, 0.65, 9, 0.3333333333333333, 2, 0.9716312056737588, 1, 1.0, 6, 0.8333333333333334, 3, 0.9710144927536232]\n"
     ]
    }
   ],
   "source": [
    "row1 = [\"팡팡팡\"]\n",
    "row1.append(total_pn)\n",
    "for i in range(9):\n",
    "    row1.append(rk[i])\n",
    "    row1.append(arr_pn[i])\n",
    "print(row1)"
   ]
  },
  {
   "cell_type": "code",
   "execution_count": 39,
   "metadata": {},
   "outputs": [
    {
     "data": {
      "text/html": [
       "<div>\n",
       "<style scoped>\n",
       "    .dataframe tbody tr th:only-of-type {\n",
       "        vertical-align: middle;\n",
       "    }\n",
       "\n",
       "    .dataframe tbody tr th {\n",
       "        vertical-align: top;\n",
       "    }\n",
       "\n",
       "    .dataframe thead th {\n",
       "        text-align: right;\n",
       "    }\n",
       "</style>\n",
       "<table border=\"1\" class=\"dataframe\">\n",
       "  <thead>\n",
       "    <tr style=\"text-align: right;\">\n",
       "      <th></th>\n",
       "      <th>cafe_name</th>\n",
       "      <th>total_pn</th>\n",
       "      <th>price_rk</th>\n",
       "      <th>price_pn</th>\n",
       "      <th>drink_rk</th>\n",
       "      <th>drink_pn</th>\n",
       "      <th>dessert_rk</th>\n",
       "      <th>dessert_pn</th>\n",
       "      <th>service_rk</th>\n",
       "      <th>service_pn</th>\n",
       "      <th>customers_rk</th>\n",
       "      <th>customers_pn</th>\n",
       "      <th>interior_rk</th>\n",
       "      <th>interior_pn</th>\n",
       "      <th>view_rk</th>\n",
       "      <th>view_pn</th>\n",
       "      <th>parking</th>\n",
       "      <th>parking_pn</th>\n",
       "      <th>trash_rk</th>\n",
       "      <th>trash_pn</th>\n",
       "    </tr>\n",
       "  </thead>\n",
       "  <tbody>\n",
       "  </tbody>\n",
       "</table>\n",
       "</div>"
      ],
      "text/plain": [
       "Empty DataFrame\n",
       "Columns: [cafe_name, total_pn, price_rk, price_pn, drink_rk, drink_pn, dessert_rk, dessert_pn, service_rk, service_pn, customers_rk, customers_pn, interior_rk, interior_pn, view_rk, view_pn, parking, parking_pn, trash_rk, trash_pn]\n",
       "Index: []"
      ]
     },
     "execution_count": 39,
     "metadata": {},
     "output_type": "execute_result"
    }
   ],
   "source": [
    "df = pd.DataFrame({\"cafe_name\":[], \"total_pn\":[], \n",
    "                   \"price_rk\":[], \"price_pn\":[], \n",
    "                   \"drink_rk\":[], \"drink_pn\":[],\n",
    "                   \"dessert_rk\":[], \"dessert_pn\":[],\n",
    "                   \"service_rk\":[], \"service_pn\":[],\n",
    "                   \"customers_rk\":[], \"customers_pn\":[],\n",
    "                   \"interior_rk\":[], \"interior_pn\":[],\n",
    "                   \"view_rk\":[], \"view_pn\":[],\n",
    "                   \"parking\":[], \"parking_pn\":[],\n",
    "                   \"trash_rk\":[], \"trash_pn\":[],\n",
    "                   })\n",
    "df"
   ]
  },
  {
   "cell_type": "code",
   "execution_count": 42,
   "metadata": {},
   "outputs": [
    {
     "data": {
      "text/html": [
       "<div>\n",
       "<style scoped>\n",
       "    .dataframe tbody tr th:only-of-type {\n",
       "        vertical-align: middle;\n",
       "    }\n",
       "\n",
       "    .dataframe tbody tr th {\n",
       "        vertical-align: top;\n",
       "    }\n",
       "\n",
       "    .dataframe thead th {\n",
       "        text-align: right;\n",
       "    }\n",
       "</style>\n",
       "<table border=\"1\" class=\"dataframe\">\n",
       "  <thead>\n",
       "    <tr style=\"text-align: right;\">\n",
       "      <th></th>\n",
       "      <th>cafe_name</th>\n",
       "      <th>total_pn</th>\n",
       "      <th>price_rk</th>\n",
       "      <th>price_pn</th>\n",
       "      <th>drink_rk</th>\n",
       "      <th>drink_pn</th>\n",
       "      <th>dessert_rk</th>\n",
       "      <th>dessert_pn</th>\n",
       "      <th>service_rk</th>\n",
       "      <th>service_pn</th>\n",
       "      <th>customers_rk</th>\n",
       "      <th>customers_pn</th>\n",
       "      <th>interior_rk</th>\n",
       "      <th>interior_pn</th>\n",
       "      <th>view_rk</th>\n",
       "      <th>view_pn</th>\n",
       "      <th>parking</th>\n",
       "      <th>parking_pn</th>\n",
       "      <th>trash_rk</th>\n",
       "      <th>trash_pn</th>\n",
       "    </tr>\n",
       "  </thead>\n",
       "  <tbody>\n",
       "    <tr>\n",
       "      <th>1</th>\n",
       "      <td>팡팡팡</td>\n",
       "      <td>0.914172</td>\n",
       "      <td>8</td>\n",
       "      <td>0.52381</td>\n",
       "      <td>4</td>\n",
       "      <td>0.925</td>\n",
       "      <td>5</td>\n",
       "      <td>0.914286</td>\n",
       "      <td>7</td>\n",
       "      <td>0.65</td>\n",
       "      <td>9</td>\n",
       "      <td>0.333333</td>\n",
       "      <td>2</td>\n",
       "      <td>0.971631</td>\n",
       "      <td>1</td>\n",
       "      <td>1.0</td>\n",
       "      <td>6</td>\n",
       "      <td>0.833333</td>\n",
       "      <td>3</td>\n",
       "      <td>0.971014</td>\n",
       "    </tr>\n",
       "  </tbody>\n",
       "</table>\n",
       "</div>"
      ],
      "text/plain": [
       "  cafe_name  total_pn  price_rk  price_pn  drink_rk  drink_pn  dessert_rk  \\\n",
       "1       팡팡팡  0.914172         8   0.52381         4     0.925           5   \n",
       "\n",
       "   dessert_pn  service_rk  service_pn  customers_rk  customers_pn  \\\n",
       "1    0.914286           7        0.65             9      0.333333   \n",
       "\n",
       "   interior_rk  interior_pn  view_rk  view_pn  parking  parking_pn  trash_rk  \\\n",
       "1            2     0.971631        1      1.0        6    0.833333         3   \n",
       "\n",
       "   trash_pn  \n",
       "1  0.971014  "
      ]
     },
     "execution_count": 42,
     "metadata": {},
     "output_type": "execute_result"
    }
   ],
   "source": [
    "df.loc[1] = row1\n",
    "df"
   ]
  }
 ],
 "metadata": {
  "kernelspec": {
   "display_name": "Python 3",
   "language": "python",
   "name": "python3"
  },
  "language_info": {
   "codemirror_mode": {
    "name": "ipython",
    "version": 3
   },
   "file_extension": ".py",
   "mimetype": "text/x-python",
   "name": "python",
   "nbconvert_exporter": "python",
   "pygments_lexer": "ipython3",
   "version": "3.9.13"
  },
  "orig_nbformat": 4,
  "vscode": {
   "interpreter": {
    "hash": "cf92aa13fedf815d5c8dd192b8d835913fde3e8bc926b2a0ad6cc74ef2ba3ca2"
   }
  }
 },
 "nbformat": 4,
 "nbformat_minor": 2
}

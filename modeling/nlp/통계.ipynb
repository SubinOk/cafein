{
 "cells": [
  {
   "attachments": {},
   "cell_type": "markdown",
   "metadata": {},
   "source": [
    "import pandas as pd"
   ]
  },
  {
   "cell_type": "code",
   "execution_count": 37,
   "metadata": {},
   "outputs": [],
   "source": [
    "import pandas as pd"
   ]
  },
  {
   "cell_type": "code",
   "execution_count": 41,
   "metadata": {},
   "outputs": [],
   "source": [
    "df = pd.read_csv('./data/빵굽는커피공장_20221221_raw.csv', encoding='utf-8-sig')"
   ]
  },
  {
   "cell_type": "code",
   "execution_count": 42,
   "metadata": {},
   "outputs": [
    {
     "data": {
      "text/html": [
       "<div>\n",
       "<style scoped>\n",
       "    .dataframe tbody tr th:only-of-type {\n",
       "        vertical-align: middle;\n",
       "    }\n",
       "\n",
       "    .dataframe tbody tr th {\n",
       "        vertical-align: top;\n",
       "    }\n",
       "\n",
       "    .dataframe thead th {\n",
       "        text-align: right;\n",
       "    }\n",
       "</style>\n",
       "<table border=\"1\" class=\"dataframe\">\n",
       "  <thead>\n",
       "    <tr style=\"text-align: right;\">\n",
       "      <th></th>\n",
       "      <th>date</th>\n",
       "      <th>review</th>\n",
       "    </tr>\n",
       "  </thead>\n",
       "  <tbody>\n",
       "    <tr>\n",
       "      <th>0</th>\n",
       "      <td>2022-12-17</td>\n",
       "      <td>자리가 편안하고 빵도 같이 주셔서 좋아요</td>\n",
       "    </tr>\n",
       "    <tr>\n",
       "      <th>1</th>\n",
       "      <td>2022-12-17</td>\n",
       "      <td>대구 시내에 이렇게 아늑한 분위기의 커피숍이 있는지 몰랐어요..옛날 다방같은 느낌입...</td>\n",
       "    </tr>\n",
       "    <tr>\n",
       "      <th>2</th>\n",
       "      <td>2022-12-11</td>\n",
       "      <td>커피가 맛있고 분위기가 좋아요</td>\n",
       "    </tr>\n",
       "    <tr>\n",
       "      <th>3</th>\n",
       "      <td>2022-12-02</td>\n",
       "      <td>조용하고 분위기 넘 좋아요</td>\n",
       "    </tr>\n",
       "    <tr>\n",
       "      <th>4</th>\n",
       "      <td>2022-11-19</td>\n",
       "      <td>조아용</td>\n",
       "    </tr>\n",
       "  </tbody>\n",
       "</table>\n",
       "</div>"
      ],
      "text/plain": [
       "         date                                             review\n",
       "0  2022-12-17                             자리가 편안하고 빵도 같이 주셔서 좋아요\n",
       "1  2022-12-17  대구 시내에 이렇게 아늑한 분위기의 커피숍이 있는지 몰랐어요..옛날 다방같은 느낌입...\n",
       "2  2022-12-11                                   커피가 맛있고 분위기가 좋아요\n",
       "3  2022-12-02                                     조용하고 분위기 넘 좋아요\n",
       "4  2022-11-19                                                조아용"
      ]
     },
     "execution_count": 42,
     "metadata": {},
     "output_type": "execute_result"
    }
   ],
   "source": [
    "df = pd.read_csv('./data/빵굽는커피공장_20221221_raw.csv', encoding='utf-8-sig')\n",
    "df.head()"
   ]
  },
  {
   "cell_type": "code",
   "execution_count": null,
   "metadata": {},
   "outputs": [],
   "source": []
  },
  {
   "cell_type": "code",
   "execution_count": 47,
   "metadata": {},
   "outputs": [],
   "source": [
    "res = (pd.to_datetime(df['date'])\n",
    "       .value_counts()\n",
    "       .rename_axis('dates')\n",
    "       .reset_index(name='count'))\n",
    "\n"
   ]
  },
  {
   "cell_type": "code",
   "execution_count": 48,
   "metadata": {},
   "outputs": [
    {
     "name": "stdout",
     "output_type": "stream",
     "text": [
      "Result:\n",
      "         dates  count\n",
      "0  2022-12-17      2\n",
      "1  2022-10-29      2\n",
      "2  2022-12-11      1\n",
      "3  2022-12-02      1\n",
      "4  2022-11-19      1\n",
      "5  2022-11-08      1\n",
      "6  2022-11-02      1\n",
      "7  2022-10-22      1\n",
      "8  2022-10-21      1\n",
      "9  2022-10-07      1\n",
      "10 2022-10-05      1\n",
      "11 2022-10-03      1\n"
     ]
    }
   ],
   "source": [
    "# Display Result\n",
    "print('Result:\\n',res)"
   ]
  }
 ],
 "metadata": {
  "kernelspec": {
   "display_name": "Python 3",
   "language": "python",
   "name": "python3"
  },
  "language_info": {
   "name": "python",
   "version": "3.10.4 (tags/v3.10.4:9d38120, Mar 23 2022, 23:13:41) [MSC v.1929 64 bit (AMD64)]"
  },
  "orig_nbformat": 4,
  "vscode": {
   "interpreter": {
    "hash": "83caaa01de4c0c769578731b7bbb403ba76b224cd431ac5bf7633f43d6e11213"
   }
  }
 },
 "nbformat": 4,
 "nbformat_minor": 2
}

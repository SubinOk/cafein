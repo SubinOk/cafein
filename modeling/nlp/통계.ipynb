{
 "cells": [
  {
   "cell_type": "code",
   "execution_count": 41,
   "metadata": {},
   "outputs": [],
   "source": [
    "import pandas as pd"
   ]
  },
  {
   "cell_type": "code",
   "execution_count": 42,
   "metadata": {},
   "outputs": [],
   "source": [
    "data = pd.read_csv('./data/팡팡팡_20221222_result.csv', encoding='utf-8-sig')"
   ]
  },
  {
   "cell_type": "code",
   "execution_count": 43,
   "metadata": {},
   "outputs": [
    {
     "data": {
      "text/html": [
       "<div>\n",
       "<style scoped>\n",
       "    .dataframe tbody tr th:only-of-type {\n",
       "        vertical-align: middle;\n",
       "    }\n",
       "\n",
       "    .dataframe tbody tr th {\n",
       "        vertical-align: top;\n",
       "    }\n",
       "\n",
       "    .dataframe thead th {\n",
       "        text-align: right;\n",
       "    }\n",
       "</style>\n",
       "<table border=\"1\" class=\"dataframe\">\n",
       "  <thead>\n",
       "    <tr style=\"text-align: right;\">\n",
       "      <th></th>\n",
       "      <th>reviews</th>\n",
       "      <th>sentiment</th>\n",
       "      <th>price</th>\n",
       "      <th>drink</th>\n",
       "      <th>dessert</th>\n",
       "      <th>service</th>\n",
       "      <th>customers</th>\n",
       "      <th>interior</th>\n",
       "      <th>view</th>\n",
       "      <th>parking</th>\n",
       "      <th>trash</th>\n",
       "    </tr>\n",
       "  </thead>\n",
       "  <tbody>\n",
       "    <tr>\n",
       "      <th>0</th>\n",
       "      <td>빵 종류도 많고 맛있어요</td>\n",
       "      <td>1</td>\n",
       "      <td>0</td>\n",
       "      <td>0</td>\n",
       "      <td>1</td>\n",
       "      <td>0</td>\n",
       "      <td>0</td>\n",
       "      <td>0</td>\n",
       "      <td>0</td>\n",
       "      <td>0</td>\n",
       "      <td>0</td>\n",
       "    </tr>\n",
       "    <tr>\n",
       "      <th>1</th>\n",
       "      <td>매장이 엄청 넓고</td>\n",
       "      <td>1</td>\n",
       "      <td>0</td>\n",
       "      <td>0</td>\n",
       "      <td>0</td>\n",
       "      <td>0</td>\n",
       "      <td>0</td>\n",
       "      <td>1</td>\n",
       "      <td>0</td>\n",
       "      <td>0</td>\n",
       "      <td>0</td>\n",
       "    </tr>\n",
       "    <tr>\n",
       "      <th>2</th>\n",
       "      <td>빵 종류도 진짜 많아요</td>\n",
       "      <td>1</td>\n",
       "      <td>0</td>\n",
       "      <td>0</td>\n",
       "      <td>1</td>\n",
       "      <td>0</td>\n",
       "      <td>0</td>\n",
       "      <td>0</td>\n",
       "      <td>0</td>\n",
       "      <td>0</td>\n",
       "      <td>0</td>\n",
       "    </tr>\n",
       "    <tr>\n",
       "      <th>3</th>\n",
       "      <td>소금 빵 진짜 맛있어요.</td>\n",
       "      <td>1</td>\n",
       "      <td>0</td>\n",
       "      <td>0</td>\n",
       "      <td>1</td>\n",
       "      <td>0</td>\n",
       "      <td>0</td>\n",
       "      <td>0</td>\n",
       "      <td>0</td>\n",
       "      <td>0</td>\n",
       "      <td>0</td>\n",
       "    </tr>\n",
       "    <tr>\n",
       "      <th>4</th>\n",
       "      <td>강추!!!</td>\n",
       "      <td>1</td>\n",
       "      <td>0</td>\n",
       "      <td>0</td>\n",
       "      <td>0</td>\n",
       "      <td>0</td>\n",
       "      <td>0</td>\n",
       "      <td>0</td>\n",
       "      <td>0</td>\n",
       "      <td>0</td>\n",
       "      <td>1</td>\n",
       "    </tr>\n",
       "  </tbody>\n",
       "</table>\n",
       "</div>"
      ],
      "text/plain": [
       "         reviews  sentiment  price  drink  dessert  service  customers  \\\n",
       "0  빵 종류도 많고 맛있어요          1      0      0        1        0          0   \n",
       "1      매장이 엄청 넓고          1      0      0        0        0          0   \n",
       "2   빵 종류도 진짜 많아요          1      0      0        1        0          0   \n",
       "3  소금 빵 진짜 맛있어요.          1      0      0        1        0          0   \n",
       "4          강추!!!          1      0      0        0        0          0   \n",
       "\n",
       "   interior  view  parking  trash  \n",
       "0         0     0        0      0  \n",
       "1         1     0        0      0  \n",
       "2         0     0        0      0  \n",
       "3         0     0        0      0  \n",
       "4         0     0        0      1  "
      ]
     },
     "execution_count": 43,
     "metadata": {},
     "output_type": "execute_result"
    }
   ],
   "source": [
    "data.head()"
   ]
  },
  {
   "cell_type": "code",
   "execution_count": 44,
   "metadata": {},
   "outputs": [
    {
     "data": {
      "text/plain": [
       "0.9141716566866267"
      ]
     },
     "execution_count": 44,
     "metadata": {},
     "output_type": "execute_result"
    }
   ],
   "source": [
    "# 전체 긍부정\n",
    "total_pn = len(data.loc[data['sentiment']==1])/len(data)\n",
    "total_pn"
   ]
  },
  {
   "cell_type": "code",
   "execution_count": 49,
   "metadata": {},
   "outputs": [
    {
     "name": "stdout",
     "output_type": "stream",
     "text": [
      "[0.5238095238095238, 0.925, 0.9142857142857143, 0.65, 0.3333333333333333, 0.9716312056737588, 1.0, 0.8333333333333334, 0.9710144927536232]\n"
     ]
    }
   ],
   "source": [
    "# 요소별 긍부정, 개수\n",
    "arr = [\"price\", \"drink\", \"dessert\", \"service\", \"customers\", \"interior\", \"view\", \"parking\", \"trash\"]\n",
    "arr_pn = [] # 긍부정 비율\n",
    "count = [] # 카테고리별 개수\n",
    "p_count = [] # 긍정 개수\n",
    "for i in arr:\n",
    "    pn = len(data.loc[(data[f\"{i}\"]==1) & (data['sentiment']==1)])/len(data.loc[data[f\"{i}\"]==1])\n",
    "    arr_pn.append(pn)\n",
    "    count.append(len(data.loc[data[f\"{i}\"]==1]))\n",
    "    p_count.append(len(data.loc[(data[f\"{i}\"]==1) & (data['sentiment']==1)]))\n",
    "print(arr_pn)"
   ]
  },
  {
   "cell_type": "code",
   "execution_count": 46,
   "metadata": {},
   "outputs": [
    {
     "name": "stdout",
     "output_type": "stream",
     "text": [
      "[8, 4, 5, 7, 9, 2, 1, 6, 3]\n"
     ]
    }
   ],
   "source": [
    "# 요소별 랭킹 (순위가 높을수록 긍정이 높음)\n",
    "sorted_arr = sorted(arr_pn, reverse=True)\n",
    "\n",
    "rk =[]\n",
    "for i in arr_pn:\n",
    "    rk.append(sorted_arr.index(i)+1)\n",
    "print(rk)"
   ]
  },
  {
   "cell_type": "code",
   "execution_count": null,
   "metadata": {},
   "outputs": [],
   "source": []
  },
  {
   "cell_type": "code",
   "execution_count": 47,
   "metadata": {},
   "outputs": [
    {
     "data": {
      "text/html": [
       "<div>\n",
       "<style scoped>\n",
       "    .dataframe tbody tr th:only-of-type {\n",
       "        vertical-align: middle;\n",
       "    }\n",
       "\n",
       "    .dataframe tbody tr th {\n",
       "        vertical-align: top;\n",
       "    }\n",
       "\n",
       "    .dataframe thead th {\n",
       "        text-align: right;\n",
       "    }\n",
       "</style>\n",
       "<table border=\"1\" class=\"dataframe\">\n",
       "  <thead>\n",
       "    <tr style=\"text-align: right;\">\n",
       "      <th></th>\n",
       "      <th>cafe_name</th>\n",
       "      <th>total_pn</th>\n",
       "      <th>total_count</th>\n",
       "    </tr>\n",
       "  </thead>\n",
       "  <tbody>\n",
       "    <tr>\n",
       "      <th>1</th>\n",
       "      <td>팡팡팡</td>\n",
       "      <td>0.914172</td>\n",
       "      <td>501</td>\n",
       "    </tr>\n",
       "  </tbody>\n",
       "</table>\n",
       "</div>"
      ],
      "text/plain": [
       "  cafe_name  total_pn  total_count\n",
       "1       팡팡팡  0.914172          501"
      ]
     },
     "execution_count": 47,
     "metadata": {},
     "output_type": "execute_result"
    }
   ],
   "source": [
    "df_total = pd.DataFrame({\"cafe_name\":[], \"total_pn\":[], \"total_count\":[]})\n",
    "row3 = [\"팡팡팡\", total_pn, len(data)] \n",
    "df_total.loc[1] = row3\n",
    "df_total"
   ]
  },
  {
   "cell_type": "code",
   "execution_count": 39,
   "metadata": {},
   "outputs": [],
   "source": [
    "df_total.to_csv(\"df_total.csv\",index=False)"
   ]
  },
  {
   "cell_type": "code",
   "execution_count": 50,
   "metadata": {},
   "outputs": [
    {
     "data": {
      "text/html": [
       "<div>\n",
       "<style scoped>\n",
       "    .dataframe tbody tr th:only-of-type {\n",
       "        vertical-align: middle;\n",
       "    }\n",
       "\n",
       "    .dataframe tbody tr th {\n",
       "        vertical-align: top;\n",
       "    }\n",
       "\n",
       "    .dataframe thead th {\n",
       "        text-align: right;\n",
       "    }\n",
       "</style>\n",
       "<table border=\"1\" class=\"dataframe\">\n",
       "  <thead>\n",
       "    <tr style=\"text-align: right;\">\n",
       "      <th></th>\n",
       "      <th>category</th>\n",
       "      <th>rank</th>\n",
       "      <th>sentiment</th>\n",
       "      <th>cnt</th>\n",
       "      <th>positive_cnt</th>\n",
       "    </tr>\n",
       "  </thead>\n",
       "  <tbody>\n",
       "    <tr>\n",
       "      <th>0</th>\n",
       "      <td>price</td>\n",
       "      <td>8</td>\n",
       "      <td>0.523810</td>\n",
       "      <td>21</td>\n",
       "      <td>11</td>\n",
       "    </tr>\n",
       "    <tr>\n",
       "      <th>1</th>\n",
       "      <td>drink</td>\n",
       "      <td>4</td>\n",
       "      <td>0.925000</td>\n",
       "      <td>40</td>\n",
       "      <td>37</td>\n",
       "    </tr>\n",
       "    <tr>\n",
       "      <th>2</th>\n",
       "      <td>dessert</td>\n",
       "      <td>5</td>\n",
       "      <td>0.914286</td>\n",
       "      <td>140</td>\n",
       "      <td>128</td>\n",
       "    </tr>\n",
       "    <tr>\n",
       "      <th>3</th>\n",
       "      <td>service</td>\n",
       "      <td>7</td>\n",
       "      <td>0.650000</td>\n",
       "      <td>20</td>\n",
       "      <td>13</td>\n",
       "    </tr>\n",
       "    <tr>\n",
       "      <th>4</th>\n",
       "      <td>customer</td>\n",
       "      <td>9</td>\n",
       "      <td>0.333333</td>\n",
       "      <td>3</td>\n",
       "      <td>1</td>\n",
       "    </tr>\n",
       "    <tr>\n",
       "      <th>5</th>\n",
       "      <td>interior</td>\n",
       "      <td>2</td>\n",
       "      <td>0.971631</td>\n",
       "      <td>141</td>\n",
       "      <td>137</td>\n",
       "    </tr>\n",
       "    <tr>\n",
       "      <th>6</th>\n",
       "      <td>view</td>\n",
       "      <td>1</td>\n",
       "      <td>1.000000</td>\n",
       "      <td>3</td>\n",
       "      <td>3</td>\n",
       "    </tr>\n",
       "    <tr>\n",
       "      <th>7</th>\n",
       "      <td>parking</td>\n",
       "      <td>6</td>\n",
       "      <td>0.833333</td>\n",
       "      <td>6</td>\n",
       "      <td>5</td>\n",
       "    </tr>\n",
       "  </tbody>\n",
       "</table>\n",
       "</div>"
      ],
      "text/plain": [
       "   category  rank  sentiment  cnt  positive_cnt\n",
       "0     price     8   0.523810   21            11\n",
       "1     drink     4   0.925000   40            37\n",
       "2   dessert     5   0.914286  140           128\n",
       "3   service     7   0.650000   20            13\n",
       "4  customer     9   0.333333    3             1\n",
       "5  interior     2   0.971631  141           137\n",
       "6      view     1   1.000000    3             3\n",
       "7   parking     6   0.833333    6             5"
      ]
     },
     "execution_count": 50,
     "metadata": {},
     "output_type": "execute_result"
    }
   ],
   "source": [
    "df_category = pd.DataFrame({\"category\":[], \"rank\":[], \"sentiment\":[], \"cnt\":[], \"positive_cnt\":[]})\n",
    "category = [\"price\", \"drink\", \"dessert\", \"service\", \"customer\", \"interior\", \"view\", \"parking\"]\n",
    "\n",
    "for i in range(8):\n",
    "    row = []\n",
    "    row.append(category[i])\n",
    "    row.append(rk[i]) \n",
    "    row.append(arr_pn[i])\n",
    "    row.append(count[i])\n",
    "    row.append(p_count[i])\n",
    "    df_category.loc[i] = row\n",
    "\n",
    "df_category    "
   ]
  },
  {
   "cell_type": "code",
   "execution_count": null,
   "metadata": {},
   "outputs": [],
   "source": [
    "df_category.to_csv(\"df_category.csv\",index=False)"
   ]
  },
  {
   "cell_type": "code",
   "execution_count": null,
   "metadata": {},
   "outputs": [],
   "source": []
  }
 ],
 "metadata": {
  "kernelspec": {
   "display_name": "Python 3",
   "language": "python",
   "name": "python3"
  },
  "language_info": {
   "codemirror_mode": {
    "name": "ipython",
    "version": 3
   },
   "file_extension": ".py",
   "mimetype": "text/x-python",
   "name": "python",
   "nbconvert_exporter": "python",
   "pygments_lexer": "ipython3",
   "version": "3.9.13"
  },
  "orig_nbformat": 4,
  "vscode": {
   "interpreter": {
    "hash": "cf92aa13fedf815d5c8dd192b8d835913fde3e8bc926b2a0ad6cc74ef2ba3ca2"
   }
  }
 },
 "nbformat": 4,
 "nbformat_minor": 2
}

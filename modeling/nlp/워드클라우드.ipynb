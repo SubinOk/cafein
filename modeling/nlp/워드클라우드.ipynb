{
 "cells": [
  {
   "cell_type": "code",
   "execution_count": 67,
   "metadata": {},
   "outputs": [],
   "source": [
    "## 워드 클라우드 생성을 위한 패키지\n",
    "from wordcloud import WordCloud\n",
    "\n",
    "## 워드클라우드 모양을 변형시키고자 하는 이미지 활용에 사용 패키지\n",
    "from PIL import Image\n",
    "\n",
    "## 그래프 출력 패키지\n",
    "import matplotlib.pyplot as plt\n",
    "\n",
    "## 수치 연산 패키지\n",
    "import numpy as np\n",
    "\n",
    "## 데이터 핸들링\n",
    "import pandas as pd"
   ]
  },
  {
   "cell_type": "code",
   "execution_count": 68,
   "metadata": {},
   "outputs": [],
   "source": [
    "data = pd.read_csv('./팡팡팡.csv', encoding='utf-8-sig')\n",
    "data = data.fillna(0)"
   ]
  },
  {
   "cell_type": "code",
   "execution_count": 69,
   "metadata": {},
   "outputs": [
    {
     "name": "stdout",
     "output_type": "stream",
     "text": [
      "{'비싸다': 7, '빵': 7, '가격': 6, '가성비': 5, '좋다': 5, '음료': 4, '싸다': 3, '있다': 3, '괜찮다': 2, '맛있다': 2, '맛': 2, '포장': 2, '시나몬': 2, '저렴하다': 2, '오다': 2, '없다': 2, '커피': 1, '개인': 1, '돈': 1, '내다': 1}\n"
     ]
    }
   ],
   "source": [
    "# 카테고리별 df -> wc\n",
    "arr = [\"price\", \"drink\", \"dessert\", \"service\", \"customers\", \"interior\", \"view\", \"parking\"]\n",
    "wc_list =[]\n",
    "\n",
    "for i in arr:\n",
    "    df = data[[f'{i}_word', f'{i}_count']]\n",
    "    wc = df.set_index(f'{i}_word').to_dict()[f'{i}_count']\n",
    "    wc_list.append(wc)\n",
    "\n",
    "print(wc_list[0])"
   ]
  },
  {
   "cell_type": "code",
   "execution_count": 77,
   "metadata": {},
   "outputs": [],
   "source": [
    "from matplotlib.colors import LinearSegmentedColormap\n",
    "colors = ['#744C2E', '#583A23', '#825634', '#DFC4AF','#C39068']\n",
    "cmap = LinearSegmentedColormap.from_list('my_cmap',colors,gamma=2)\n",
    "\n",
    "for i in range(8):\n",
    "    wordCloud = WordCloud(\n",
    "    font_path = \"H2HDRM\", # 폰트 지정\n",
    "    width = 400, # 워드 클라우드의 너비 지정\n",
    "    height = 400, # 워드클라우드의 높이 지정\n",
    "    max_font_size=100, # 가장 빈도수가 높은 단어의 폰트 사이즈 지정\n",
    "    background_color = 'white',# 배경색 지정\n",
    "    colormap= cmap\n",
    "    ).generate_from_frequencies(wc_list[i]) # 워드 클라우드 빈도수 지정\n",
    "    \n",
    "    wordCloud.to_file(filename=f\"{i}.png\")"
   ]
  },
  {
   "cell_type": "markdown",
   "metadata": {},
   "source": []
  }
 ],
 "metadata": {
  "kernelspec": {
   "display_name": "Python 3",
   "language": "python",
   "name": "python3"
  },
  "language_info": {
   "codemirror_mode": {
    "name": "ipython",
    "version": 3
   },
   "file_extension": ".py",
   "mimetype": "text/x-python",
   "name": "python",
   "nbconvert_exporter": "python",
   "pygments_lexer": "ipython3",
   "version": "3.9.13"
  },
  "orig_nbformat": 4,
  "vscode": {
   "interpreter": {
    "hash": "cf92aa13fedf815d5c8dd192b8d835913fde3e8bc926b2a0ad6cc74ef2ba3ca2"
   }
  }
 },
 "nbformat": 4,
 "nbformat_minor": 2
}

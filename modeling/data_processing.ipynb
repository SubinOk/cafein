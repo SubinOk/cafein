{
 "cells": [
  {
   "cell_type": "code",
   "execution_count": null,
   "metadata": {},
   "outputs": [],
   "source": [
    "# review -> 이모티콘/자음 삭제 -> (띄워쓰기 + 맞춤법) -> 문장 분리\n",
    "# - 문장 단위: 문장 부호, 종결어미, 연결조사로 사전 만들기"
   ]
  },
  {
   "cell_type": "code",
   "execution_count": 65,
   "metadata": {},
   "outputs": [],
   "source": [
    "import pandas as pd\n",
    "from kiwipiepy import Kiwi\n",
    "from emoji import core\n",
    "import re"
   ]
  },
  {
   "cell_type": "code",
   "execution_count": 66,
   "metadata": {},
   "outputs": [
    {
     "data": {
      "text/html": [
       "<div>\n",
       "<style scoped>\n",
       "    .dataframe tbody tr th:only-of-type {\n",
       "        vertical-align: middle;\n",
       "    }\n",
       "\n",
       "    .dataframe tbody tr th {\n",
       "        vertical-align: top;\n",
       "    }\n",
       "\n",
       "    .dataframe thead th {\n",
       "        text-align: right;\n",
       "    }\n",
       "</style>\n",
       "<table border=\"1\" class=\"dataframe\">\n",
       "  <thead>\n",
       "    <tr style=\"text-align: right;\">\n",
       "      <th></th>\n",
       "      <th>review</th>\n",
       "    </tr>\n",
       "  </thead>\n",
       "  <tbody>\n",
       "    <tr>\n",
       "      <th>0</th>\n",
       "      <td>맛있어요~</td>\n",
       "    </tr>\n",
       "    <tr>\n",
       "      <th>1</th>\n",
       "      <td>만족도 최상의 커피맛집</td>\n",
       "    </tr>\n",
       "    <tr>\n",
       "      <th>2</th>\n",
       "      <td>찐 커피맛집ㅎㅎ</td>\n",
       "    </tr>\n",
       "    <tr>\n",
       "      <th>3</th>\n",
       "      <td>로마노 진짜 달달하고 맛있고 아이스크림라떼도 꼬소하고 달달하고 진짜 맛있어요!! 마...</td>\n",
       "    </tr>\n",
       "    <tr>\n",
       "      <th>4</th>\n",
       "      <td>커조남 커피는 힐링입니다 소금빵도 맛있어요</td>\n",
       "    </tr>\n",
       "  </tbody>\n",
       "</table>\n",
       "</div>"
      ],
      "text/plain": [
       "                                              review\n",
       "0                                              맛있어요~\n",
       "1                                       만족도 최상의 커피맛집\n",
       "2                                           찐 커피맛집ㅎㅎ\n",
       "3  로마노 진짜 달달하고 맛있고 아이스크림라떼도 꼬소하고 달달하고 진짜 맛있어요!! 마...\n",
       "4                            커조남 커피는 힐링입니다 소금빵도 맛있어요"
      ]
     },
     "execution_count": 66,
     "metadata": {},
     "output_type": "execute_result"
    }
   ],
   "source": [
    "data = pd.read_csv('./data/train_data_1.csv', encoding='utf-8-sig')\n",
    "data.head()"
   ]
  },
  {
   "cell_type": "code",
   "execution_count": 67,
   "metadata": {},
   "outputs": [],
   "source": [
    "kiwi = Kiwi()"
   ]
  },
  {
   "cell_type": "code",
   "execution_count": 68,
   "metadata": {},
   "outputs": [
    {
     "data": {
      "text/plain": [
       "True"
      ]
     },
     "execution_count": 68,
     "metadata": {},
     "output_type": "execute_result"
    }
   ],
   "source": [
    "# 사용자 사전 추가\n",
    "kiwi.add_user_word('맛집', 'NNG', 0)\n",
    "kiwi.add_user_word('카페명', 'NNP', 0) # 카페 이름 리스트가 있으면 추가"
   ]
  },
  {
   "cell_type": "code",
   "execution_count": 69,
   "metadata": {},
   "outputs": [],
   "source": [
    "# 정규표현식 컴파일 (명사형 태그)\n",
    "noun = re.compile(r'^N')"
   ]
  },
  {
   "cell_type": "code",
   "execution_count": 70,
   "metadata": {},
   "outputs": [],
   "source": [
    "# 리뷰 문장 단위로 분리\n",
    "def revToSent(review):\n",
    "    sentences = []\n",
    "    preTag = ''\n",
    "    preForm = ''\n",
    "    sents = kiwi.split_into_sents(review, return_tokens=True)\n",
    "    for sent in sents:\n",
    "        toks = sent.tokens\n",
    "        tmp = []\n",
    "        for tok in toks:\n",
    "            if tok.tag == 'SW':\n",
    "                continue\n",
    "            \n",
    "            condition = (preTag == 'EC') and (preForm in ['고', '지만'])\n",
    "            if condition and bool(noun.match(tok.tag)):\n",
    "                sentences.append(kiwi.join(tmp))\n",
    "                tmp.clear()\n",
    "\n",
    "            tmp.append(tok)\n",
    "            \n",
    "            \n",
    "            if tok.tag == 'SO' and tok.form == '~':\n",
    "                sentences.append(kiwi.join(tmp))\n",
    "                tmp.clear()\n",
    "            \n",
    "            preTag = tok.tag\n",
    "            preForm = tok.form\n",
    "\n",
    "        if len(tmp) > 0:\n",
    "            sentences.append(kiwi.join(tmp))\n",
    "    \n",
    "    return sentences"
   ]
  },
  {
   "cell_type": "code",
   "execution_count": 72,
   "metadata": {},
   "outputs": [
    {
     "name": "stdout",
     "output_type": "stream",
     "text": [
      "원본 문장:  드립커피는 별로 안좋아해서..\n",
      "친구는 괜찮대요. 갈 만은 해요\n",
      "특수 문자 제거:  드립커피는 별로 안좋아해서..\n",
      "친구는 괜찮대요. 갈 만은 해요\n",
      "문장 분리:  ['드립커피는 별로 안 좋아해서..', '친구는 괜찮대요.', '갈 만은해요']\n",
      "\n",
      "원본 문장:  두번째 방문입니다.일부러 들렀어요. 전에 마셔보지못한 카페오레가 궁금해서요. 카페오레 온도가 참좋아요. 부드러움도요. 소금빵과 잘어울리는 맛입니다.\n",
      "특수 문자 제거:  두번째 방문입니다.일부러 들렀어요. 전에 마셔보지못한 카페오레가 궁금해서요. 카페오레 온도가 참좋아요. 부드러움도요. 소금빵과 잘어울리는 맛입니다.\n",
      "문장 분리:  ['두 번째 방문입니다.', '일부러 들렀어요.', '전에 마셔 보지 못한 카페오레가 궁금해서요.', '카페오레 온도가 참 좋아요.', '부드러움도요.', '소금 빵과 잘 어울리는 맛입니다.']\n",
      "\n",
      "원본 문장:  커조남☕️모르시는 대구분들 계신가용~? 동성로점도 넘 좋았지만 본점은 정말 최고인 것 같아요 평일에도 항상 사람들 많고 직원분들 모두 친절하시고 무엇보다 커피맛 정말 최고에요! 디카페인 추가금액 없는곳 커조남 뿐일것같아요! 그리고 리필된다는점~진짜 넘 좋은곳!추천합니다!⭐️⭐️⭐️⭐️⭐️\n",
      "특수 문자 제거:  커조남모르시는 대구분들 계신가용~? 동성로점도 넘 좋았지만 본점은 정말 최고인 것 같아요 평일에도 항상 사람들 많고 직원분들 모두 친절하시고 무엇보다 커피맛 정말 최고에요! 디카페인 추가금액 없는곳 커조남 뿐일것같아요! 그리고 리필된다는점~진짜 넘 좋은곳!추천합니다!\n",
      "문장 분리:  ['커조남모르 시는 대구부인들 계신가용~', '?', '동성로 점도 넘 좋았지만', '본점은 정말 최고인 것 같아요', '평일에도 항상 사람들 많고', '직원 분들 모두 친절하시고', '무엇보다 커피 맛 정말 최고에요!', '디 카페인 추가 금액 없는 곳 커조 남 뿐일 것 같아요!', '그리고 리필된다는 점~', '진짜 넘 좋은 곳!', '추천합니다!']\n",
      "\n",
      "원본 문장:  카페오레 맛있습니다. 빵종류는 오후에 나옵니다.\n",
      "특수 문자 제거:  카페오레 맛있습니다. 빵종류는 오후에 나옵니다.\n",
      "문장 분리:  ['카페오레 맛있습니다.', '빵 종류는 오후에 나옵니다.']\n",
      "\n",
      "원본 문장:  커피 너무 맛있어요!!\n",
      "특수 문자 제거:  커피 너무 맛있어요!!\n",
      "문장 분리:  ['커피 너무 맛있어요!!']\n",
      "\n",
      "원본 문장:  12시 오픈때가도 금새 사람들로 꽉 차서 카페 안이 말소리에 울려 대화가 안될\n",
      "정도였어요 만추의 끝자락에 추운 겨울이오면 ㅠㅠ~~\n",
      "특수 문자 제거:  12시 오픈때가도 금새 사람들로 꽉 차서 카페 안이 말소리에 울려 대화가 안될\n",
      "정도였어요 만추의 끝자락에 추운 겨울이오면 ㅠㅠ~~\n",
      "문장 분리:  ['12시 오픈 때 가도 금새 사람들로 꽉 차서 카페 안이 말소리에 울려 대화가 안 될 정도였어요 만추의 끝 자락에 추운 겨울이 오면~~']\n",
      "\n",
      "원본 문장:  굿\n",
      "특수 문자 제거:  굿\n",
      "문장 분리:  ['굿']\n",
      "\n",
      "원본 문장:  굿굿굿\n",
      "특수 문자 제거:  굿굿굿\n",
      "문장 분리:  ['굿 굿 굿']\n",
      "\n",
      "원본 문장:  굿커피맛좋아요\n",
      "특수 문자 제거:  굿커피맛좋아요\n",
      "문장 분리:  ['굿 커피 맛 좋아요']\n",
      "\n",
      "원본 문장:  굿\n",
      "특수 문자 제거:  굿\n",
      "문장 분리:  ['굿']\n",
      "\n"
     ]
    }
   ],
   "source": [
    "# 물결표 ... 고민해보기\n",
    "for i in range(15, 25):\n",
    "    review = data['review'][i]\n",
    "    print('원본 문장: ', review)\n",
    "    review = core.replace_emoji(review, replace=\"\")\n",
    "    print('특수 문자 제거: ', review)\n",
    "    sents = revToSent(review)\n",
    "    print('문장 분리: ', sents)\n",
    "    print()    "
   ]
  }
 ],
 "metadata": {
  "kernelspec": {
   "display_name": "Python 3.8.10 64-bit",
   "language": "python",
   "name": "python3"
  },
  "language_info": {
   "codemirror_mode": {
    "name": "ipython",
    "version": 3
   },
   "file_extension": ".py",
   "mimetype": "text/x-python",
   "name": "python",
   "nbconvert_exporter": "python",
   "pygments_lexer": "ipython3",
   "version": "3.8.10"
  },
  "orig_nbformat": 4,
  "vscode": {
   "interpreter": {
    "hash": "e655501cde564f2054c1ea7839a2b8d9d7f47fe8b3eaa7a598e847358d1239d1"
   }
  }
 },
 "nbformat": 4,
 "nbformat_minor": 2
}

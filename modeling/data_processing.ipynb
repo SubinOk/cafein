{
 "cells": [
  {
   "cell_type": "code",
   "execution_count": 1,
   "metadata": {},
   "outputs": [],
   "source": [
    "# review -> 이모티콘/자음 삭제 -> (띄워쓰기 + 맞춤법) -> 문장 분리\n",
    "# - 문장 단위: 문장 부호, 종결어미, 연결조사로 사전 만들기"
   ]
  },
  {
   "cell_type": "code",
   "execution_count": 59,
   "metadata": {},
   "outputs": [],
   "source": [
    "import pandas as pd\n",
    "from kiwipiepy import Kiwi\n",
    "from emoji import core\n",
    "import re\n",
    "import itertools"
   ]
  },
  {
   "cell_type": "code",
   "execution_count": 3,
   "metadata": {},
   "outputs": [
    {
     "data": {
      "text/html": [
       "<div>\n",
       "<style scoped>\n",
       "    .dataframe tbody tr th:only-of-type {\n",
       "        vertical-align: middle;\n",
       "    }\n",
       "\n",
       "    .dataframe tbody tr th {\n",
       "        vertical-align: top;\n",
       "    }\n",
       "\n",
       "    .dataframe thead th {\n",
       "        text-align: right;\n",
       "    }\n",
       "</style>\n",
       "<table border=\"1\" class=\"dataframe\">\n",
       "  <thead>\n",
       "    <tr style=\"text-align: right;\">\n",
       "      <th></th>\n",
       "      <th>review</th>\n",
       "    </tr>\n",
       "  </thead>\n",
       "  <tbody>\n",
       "    <tr>\n",
       "      <th>0</th>\n",
       "      <td>맛있어요~</td>\n",
       "    </tr>\n",
       "    <tr>\n",
       "      <th>1</th>\n",
       "      <td>만족도 최상의 커피맛집</td>\n",
       "    </tr>\n",
       "    <tr>\n",
       "      <th>2</th>\n",
       "      <td>찐 커피맛집ㅎㅎ</td>\n",
       "    </tr>\n",
       "    <tr>\n",
       "      <th>3</th>\n",
       "      <td>로마노 진짜 달달하고 맛있고 아이스크림라떼도 꼬소하고 달달하고 진짜 맛있어요!! 마...</td>\n",
       "    </tr>\n",
       "    <tr>\n",
       "      <th>4</th>\n",
       "      <td>커조남 커피는 힐링입니다 소금빵도 맛있어요</td>\n",
       "    </tr>\n",
       "  </tbody>\n",
       "</table>\n",
       "</div>"
      ],
      "text/plain": [
       "                                              review\n",
       "0                                              맛있어요~\n",
       "1                                       만족도 최상의 커피맛집\n",
       "2                                           찐 커피맛집ㅎㅎ\n",
       "3  로마노 진짜 달달하고 맛있고 아이스크림라떼도 꼬소하고 달달하고 진짜 맛있어요!! 마...\n",
       "4                            커조남 커피는 힐링입니다 소금빵도 맛있어요"
      ]
     },
     "execution_count": 3,
     "metadata": {},
     "output_type": "execute_result"
    }
   ],
   "source": [
    "data = pd.read_csv('./data/train_data_1.csv', encoding='utf-8-sig')\n",
    "data.head()"
   ]
  },
  {
   "cell_type": "code",
   "execution_count": 4,
   "metadata": {},
   "outputs": [],
   "source": [
    "kiwi = Kiwi()"
   ]
  },
  {
   "cell_type": "code",
   "execution_count": 10,
   "metadata": {},
   "outputs": [
    {
     "data": {
      "text/plain": [
       "False"
      ]
     },
     "execution_count": 10,
     "metadata": {},
     "output_type": "execute_result"
    }
   ],
   "source": [
    "# 사용자 사전 추가\n",
    "kiwi.add_user_word('맛집', 'NNG', 0)\n",
    "kiwi.add_user_word('라떼', 'NNG', 0)\n",
    "kiwi.add_user_word('디카페인', 'NNG', 0)\n",
    "# kiwi.add_user_word('카페명', 'NNP', 0) # 카페 이름 리스트가 있으면 추가"
   ]
  },
  {
   "cell_type": "code",
   "execution_count": 34,
   "metadata": {},
   "outputs": [],
   "source": [
    "# 정규표현식 컴파일 \n",
    "noun = re.compile(r'^N') # 명사형 태그\n",
    "sp_char = re.compile(r'^(SS)|SW|SP|SO') # 특수문자 태그"
   ]
  },
  {
   "cell_type": "code",
   "execution_count": 57,
   "metadata": {},
   "outputs": [],
   "source": [
    "# 리뷰 문장 단위로 분리\n",
    "def revToSent(review):\n",
    "    tmp = []\n",
    "    sentences = []\n",
    "    preTag = ''\n",
    "    preForm = ''\n",
    "    sents = kiwi.split_into_sents(review, return_tokens=True, normalize_coda=True)\n",
    "    for sent in sents:\n",
    "        toks = sent.tokens\n",
    "        for tok in toks:\n",
    "            if bool(sp_char.match(preTag)) and bool(sp_char.match(tok.tag)):\n",
    "                preTag = tok.tag\n",
    "                preForm = tok.form\n",
    "                continue\n",
    "            \n",
    "            elif bool(sp_char.match(tok.tag)):\n",
    "                sentences.append(kiwi.join(tmp))\n",
    "                tmp.clear()\n",
    "                \n",
    "                preTag = tok.tag\n",
    "                preForm = tok.form\n",
    "                continue\n",
    "            \n",
    "            condition = (preTag == 'EC') and (preForm in ['고', '지만', '은데'])\n",
    "            if condition and bool(noun.match(tok.tag)):\n",
    "                sentences.append(kiwi.join(tmp))\n",
    "                tmp.clear()\n",
    "\n",
    "            tmp.append(tok)\n",
    "            preTag = tok.tag\n",
    "            preForm = tok.form            \n",
    "            \n",
    "        connective = (preTag == 'EF') and (preForm in ['던데', '는데', '은데'])\n",
    "        if not connective and len(tmp) > 0:\n",
    "            sentences.append(kiwi.join(tmp))\n",
    "            tmp.clear()\n",
    "    \n",
    "    return sentences"
   ]
  },
  {
   "cell_type": "code",
   "execution_count": null,
   "metadata": {},
   "outputs": [],
   "source": [
    "preprocess = []\n",
    "\n",
    "for review in data['review']:\n",
    "    # print('원본 문장: ', review)\n",
    "    review = core.replace_emoji(review, replace=\"\")\n",
    "    # print('특수 문자 제거: ', review)\n",
    "    sents = revToSent(review)\n",
    "    preprocess.append(sents)\n",
    "    # print('문장 분리: ', sents)\n",
    "    # print()    "
   ]
  },
  {
   "cell_type": "code",
   "execution_count": null,
   "metadata": {},
   "outputs": [],
   "source": [
    "preprocess = list(itertools.chain(*preprocess))"
   ]
  },
  {
   "cell_type": "code",
   "execution_count": null,
   "metadata": {},
   "outputs": [],
   "source": [
    "df = pd.DataFrame('reviews': preprocess)\n",
    "df.to_csv('./data/train_x.csv', index=False)"
   ]
  }
 ],
 "metadata": {
  "kernelspec": {
   "display_name": "Python 3",
   "language": "python",
   "name": "python3"
  },
  "language_info": {
   "codemirror_mode": {
    "name": "ipython",
    "version": 3
   },
   "file_extension": ".py",
   "mimetype": "text/x-python",
   "name": "python",
   "nbconvert_exporter": "python",
   "pygments_lexer": "ipython3",
   "version": "3.9.13"
  },
  "orig_nbformat": 4,
  "vscode": {
   "interpreter": {
    "hash": "cf92aa13fedf815d5c8dd192b8d835913fde3e8bc926b2a0ad6cc74ef2ba3ca2"
   }
  }
 },
 "nbformat": 4,
 "nbformat_minor": 2
}

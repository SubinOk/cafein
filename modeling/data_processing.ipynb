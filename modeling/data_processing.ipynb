{
 "cells": [
  {
   "cell_type": "code",
   "execution_count": null,
   "metadata": {},
   "outputs": [],
   "source": [
    "# review -> 이모티콘/자음 삭제 -> (띄워쓰기 + 맞춤법) -> 문장 분리\n",
    "# - 문장 단위: 문장 부호, 종결어미, 연결조사로 사전 만들기"
   ]
  },
  {
   "cell_type": "code",
   "execution_count": 1,
   "metadata": {},
   "outputs": [],
   "source": [
    "import pandas as pd\n",
    "import matplotlib.font_manager as fm\n",
    "import matplotlib.pyplot as plt\n",
    "from kiwipiepy import Kiwi\n",
    "\n",
    "fm.findSystemFonts()\n",
    "plt.rcParams['font.family']= [\"Malgun Gothic\"]\n",
    "plt.rcParams[\"axes.unicode_minus\"]=False"
   ]
  },
  {
   "cell_type": "code",
   "execution_count": 5,
   "metadata": {},
   "outputs": [
    {
     "data": {
      "text/html": [
       "<div>\n",
       "<style scoped>\n",
       "    .dataframe tbody tr th:only-of-type {\n",
       "        vertical-align: middle;\n",
       "    }\n",
       "\n",
       "    .dataframe tbody tr th {\n",
       "        vertical-align: top;\n",
       "    }\n",
       "\n",
       "    .dataframe thead th {\n",
       "        text-align: right;\n",
       "    }\n",
       "</style>\n",
       "<table border=\"1\" class=\"dataframe\">\n",
       "  <thead>\n",
       "    <tr style=\"text-align: right;\">\n",
       "      <th></th>\n",
       "      <th>review</th>\n",
       "    </tr>\n",
       "  </thead>\n",
       "  <tbody>\n",
       "    <tr>\n",
       "      <th>0</th>\n",
       "      <td>맛있어요~</td>\n",
       "    </tr>\n",
       "    <tr>\n",
       "      <th>1</th>\n",
       "      <td>만족도 최상의 커피맛집</td>\n",
       "    </tr>\n",
       "    <tr>\n",
       "      <th>2</th>\n",
       "      <td>찐 커피맛집ㅎㅎ</td>\n",
       "    </tr>\n",
       "    <tr>\n",
       "      <th>3</th>\n",
       "      <td>로마노 진짜 달달하고 맛있고 아이스크림라떼도 꼬소하고 달달하고 진짜 맛있어요!! 마...</td>\n",
       "    </tr>\n",
       "    <tr>\n",
       "      <th>4</th>\n",
       "      <td>커조남 커피는 힐링입니다 소금빵도 맛있어요</td>\n",
       "    </tr>\n",
       "  </tbody>\n",
       "</table>\n",
       "</div>"
      ],
      "text/plain": [
       "                                              review\n",
       "0                                              맛있어요~\n",
       "1                                       만족도 최상의 커피맛집\n",
       "2                                           찐 커피맛집ㅎㅎ\n",
       "3  로마노 진짜 달달하고 맛있고 아이스크림라떼도 꼬소하고 달달하고 진짜 맛있어요!! 마...\n",
       "4                            커조남 커피는 힐링입니다 소금빵도 맛있어요"
      ]
     },
     "execution_count": 5,
     "metadata": {},
     "output_type": "execute_result"
    }
   ],
   "source": [
    "data = pd.read_csv('./data/train_data_1.csv', encoding='utf-8-sig')\n",
    "data.head()"
   ]
  },
  {
   "cell_type": "code",
   "execution_count": 2,
   "metadata": {},
   "outputs": [],
   "source": [
    "kiwi = Kiwi()"
   ]
  },
  {
   "cell_type": "code",
   "execution_count": 9,
   "metadata": {},
   "outputs": [
    {
     "data": {
      "text/plain": [
       "[]"
      ]
     },
     "execution_count": 9,
     "metadata": {},
     "output_type": "execute_result"
    }
   ],
   "source": [
    "# kiwi.add_re_rule('EF', r'요$', r'용', -3.0)\n",
    "kiwi.add_re_rule('EF', r'어요$', r'어용', -3.0)\n"
   ]
  },
  {
   "cell_type": "code",
   "execution_count": 6,
   "metadata": {},
   "outputs": [
    {
     "data": {
      "text/plain": [
       "'만족도 최상의 커피맛집'"
      ]
     },
     "execution_count": 6,
     "metadata": {},
     "output_type": "execute_result"
    }
   ],
   "source": [
    "closeMorphs = ['EC'] # '지만'"
   ]
  },
  {
   "cell_type": "code",
   "execution_count": 13,
   "metadata": {},
   "outputs": [
    {
     "name": "stdout",
     "output_type": "stream",
     "text": [
      "시나몬롤 맛있어용 ✨\n",
      "하지만 소금빵은 동굴이 없고 좀 말라있어서 아쉬웠어요\n",
      "시나몬 롤 맛있어용 ✨\n",
      "하지만 소금 빵은 동굴이 없고 좀 말라 있어서 아쉬웠어요\n",
      "\n",
      "드립커피하면 커조남! 오늘 드립커피는 좀 애매한 맛이긴 했지만 리필커피가 맛있어서 괜춘~바로 앞 공영주차장에 주차가능\n",
      "드립커피하면 커조남!\n",
      "오늘 드립커피는 좀 애매한 맛이긴했지만\n",
      "리필 커피가 맛있어서 괜춘~바로 앞 공영 주차장에 주차 가능\n",
      "\n",
      "최애 커피집입니다 ㅎㅎ 앞산에 있을 때 부터 좋아하던 곳이라 계속가게되네요 \n",
      "크리스마스페어에서도 로마노 한잔~^^ 더웠는데 시원하게 상큼하게 잘마셨습니다\n",
      "최애 커피집입니다 ㅎㅎ\n",
      "앞산에 있을 때부터 좋아하던 곳이라 계속 가게 되네요\n",
      "크리스마스 페어에서도 로마노 한 잔~^^더웠는 데 시원하게 상큼하게 잘 마셨습니다\n",
      "\n",
      "커피맛집👍\n",
      "커피 맛 집 👍\n",
      "\n",
      "커피맛을 조금 아는 남자가 반갑게 맞아주는\n",
      "찐 커피 맛집!!\n",
      "커피 맛을 조금 아는 남자가 반갑게 맞아 주는 찐 커피 맛 집!!\n",
      "\n"
     ]
    }
   ],
   "source": [
    "for i in range(5, 10):\n",
    "    print(data['review'][i])\n",
    "    sents = kiwi.split_into_sents(data['review'][i], return_tokens=True)\n",
    "    for sent in sents:\n",
    "        toks = sent.tokens\n",
    "        sub_sents = []\n",
    "        tmp = []\n",
    "        for tok in toks:\n",
    "            tmp.append(tok)\n",
    "            if tok.tag == 'EC' and tok.form == '지만':\n",
    "                sub_sents.append(kiwi.join(tmp))\n",
    "                print(kiwi.join(tmp))\n",
    "                tmp.clear()\n",
    "        if len(tmp) > 0:\n",
    "            sub_sents.append(kiwi.join(tmp))\n",
    "            print(kiwi.join(tmp))\n",
    "    print()    "
   ]
  },
  {
   "cell_type": "code",
   "execution_count": 8,
   "metadata": {},
   "outputs": [
    {
     "name": "stdout",
     "output_type": "stream",
     "text": [
      "[Sentence(text='시나몬롤 맛있어용 ✨', start=0, end=11, tokens=None, subs=[]), Sentence(text='하지만 소금빵은 동굴이 없고 좀 말라있어서 아쉬웠어요', start=12, end=41, tokens=None, subs=[])]\n",
      "[Sentence(text='드립커피하면 커조남!', start=0, end=11, tokens=None, subs=[]), Sentence(text='오늘 드립커피는 좀 애매한 맛이긴 했지만 리필커피가 맛있어서 괜춘~바로 앞 공영주차장에 주차가능', start=12, end=65, tokens=None, subs=[])]\n",
      "[Sentence(text='최애 커피집입니다 ㅎㅎ', start=0, end=12, tokens=None, subs=[]), Sentence(text='앞산에 있을 때 부터 좋아하던 곳이라 계속가게되네요', start=13, end=41, tokens=None, subs=[]), Sentence(text='크리스마스페어에서도 로마노 한잔~^^ 더웠는데 시원하게 상큼하게 잘마셨습니다', start=43, end=85, tokens=None, subs=[])]\n",
      "[Sentence(text='커피맛집👍', start=0, end=5, tokens=None, subs=[])]\n",
      "[Sentence(text='커피맛을 조금 아는 남자가 반갑게 맞아주는\\n찐 커피 맛집!!', start=0, end=33, tokens=None, subs=[])]\n"
     ]
    }
   ],
   "source": [
    "\n",
    "\n",
    "for review in data['review']:\n",
    "    sentence = kiwi.split_into_sents(data['review'][i])\n",
    "    print(sentence)"
   ]
  }
 ],
 "metadata": {
  "kernelspec": {
   "display_name": "Python 3.8.10 64-bit",
   "language": "python",
   "name": "python3"
  },
  "language_info": {
   "codemirror_mode": {
    "name": "ipython",
    "version": 3
   },
   "file_extension": ".py",
   "mimetype": "text/x-python",
   "name": "python",
   "nbconvert_exporter": "python",
   "pygments_lexer": "ipython3",
   "version": "3.8.10"
  },
  "orig_nbformat": 4,
  "vscode": {
   "interpreter": {
    "hash": "e655501cde564f2054c1ea7839a2b8d9d7f47fe8b3eaa7a598e847358d1239d1"
   }
  }
 },
 "nbformat": 4,
 "nbformat_minor": 2
}

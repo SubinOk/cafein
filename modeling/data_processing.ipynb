{
 "cells": [
  {
   "cell_type": "code",
   "execution_count": null,
   "metadata": {},
   "outputs": [],
   "source": [
    "# review -> 이모티콘/자음 삭제 -> (띄워쓰기 + 맞춤법) -> 문장 분리\n",
    "# - 문장 단위: 문장 부호, 종결어미, 연결조사로 사전 만들기"
   ]
  },
  {
   "cell_type": "code",
   "execution_count": 21,
   "metadata": {},
   "outputs": [],
   "source": [
    "import pandas as pd\n",
    "from kiwipiepy import Kiwi\n",
    "from emoji import core\n",
    "import re"
   ]
  },
  {
   "cell_type": "code",
   "execution_count": 5,
   "metadata": {},
   "outputs": [
    {
     "data": {
      "text/html": [
       "<div>\n",
       "<style scoped>\n",
       "    .dataframe tbody tr th:only-of-type {\n",
       "        vertical-align: middle;\n",
       "    }\n",
       "\n",
       "    .dataframe tbody tr th {\n",
       "        vertical-align: top;\n",
       "    }\n",
       "\n",
       "    .dataframe thead th {\n",
       "        text-align: right;\n",
       "    }\n",
       "</style>\n",
       "<table border=\"1\" class=\"dataframe\">\n",
       "  <thead>\n",
       "    <tr style=\"text-align: right;\">\n",
       "      <th></th>\n",
       "      <th>review</th>\n",
       "    </tr>\n",
       "  </thead>\n",
       "  <tbody>\n",
       "    <tr>\n",
       "      <th>0</th>\n",
       "      <td>맛있어요~</td>\n",
       "    </tr>\n",
       "    <tr>\n",
       "      <th>1</th>\n",
       "      <td>만족도 최상의 커피맛집</td>\n",
       "    </tr>\n",
       "    <tr>\n",
       "      <th>2</th>\n",
       "      <td>찐 커피맛집ㅎㅎ</td>\n",
       "    </tr>\n",
       "    <tr>\n",
       "      <th>3</th>\n",
       "      <td>로마노 진짜 달달하고 맛있고 아이스크림라떼도 꼬소하고 달달하고 진짜 맛있어요!! 마...</td>\n",
       "    </tr>\n",
       "    <tr>\n",
       "      <th>4</th>\n",
       "      <td>커조남 커피는 힐링입니다 소금빵도 맛있어요</td>\n",
       "    </tr>\n",
       "  </tbody>\n",
       "</table>\n",
       "</div>"
      ],
      "text/plain": [
       "                                              review\n",
       "0                                              맛있어요~\n",
       "1                                       만족도 최상의 커피맛집\n",
       "2                                           찐 커피맛집ㅎㅎ\n",
       "3  로마노 진짜 달달하고 맛있고 아이스크림라떼도 꼬소하고 달달하고 진짜 맛있어요!! 마...\n",
       "4                            커조남 커피는 힐링입니다 소금빵도 맛있어요"
      ]
     },
     "execution_count": 5,
     "metadata": {},
     "output_type": "execute_result"
    }
   ],
   "source": [
    "data = pd.read_csv('./data/train_data_1.csv', encoding='utf-8-sig')\n",
    "data.head()"
   ]
  },
  {
   "cell_type": "code",
   "execution_count": 2,
   "metadata": {},
   "outputs": [],
   "source": [
    "kiwi = Kiwi()"
   ]
  },
  {
   "cell_type": "code",
   "execution_count": 22,
   "metadata": {},
   "outputs": [
    {
     "data": {
      "text/plain": [
       "True"
      ]
     },
     "execution_count": 22,
     "metadata": {},
     "output_type": "execute_result"
    }
   ],
   "source": [
    "# 사용자 사전 추가\n",
    "kiwi.add_user_word('맛집', 'NNG', 0)\n",
    "kiwi.add_user_word('카페명', 'NNP', 0) # 카페 이름 리스트가 있으면 추가"
   ]
  },
  {
   "cell_type": "code",
   "execution_count": 23,
   "metadata": {},
   "outputs": [],
   "source": [
    "# 정규표현식 컴파일 (한글 자음 미포함)\n",
    "ascii_patterns = re.compile(r'[^\\w\\s]')"
   ]
  },
  {
   "cell_type": "code",
   "execution_count": 40,
   "metadata": {},
   "outputs": [],
   "source": [
    "def cleanReview(review):\n",
    "    sent = core.replace_emoji(review, replace=\"\")\n",
    "    out = sent.replace(\"^^\", \"\")\n",
    "    return out"
   ]
  },
  {
   "cell_type": "code",
   "execution_count": 38,
   "metadata": {},
   "outputs": [],
   "source": [
    "def revToSent(review):\n",
    "    sentences = []\n",
    "    sents = kiwi.split_into_sents(review, return_tokens=True)\n",
    "    for sent in sents:\n",
    "        toks = sent.tokens\n",
    "        tmp = []\n",
    "        for tok in toks:\n",
    "            tmp.append(tok)\n",
    "            \n",
    "            if tok.tag == 'EC' and tok.form == '지만':\n",
    "                sentences.append(kiwi.join(tmp))\n",
    "                tmp.clear()\n",
    "            \n",
    "            if tok.tag == 'SO' and tok.form == '~':\n",
    "                sentences.append(kiwi.join(tmp))\n",
    "                tmp.clear()\n",
    "\n",
    "        if len(tmp) > 0:\n",
    "            sentences.append(kiwi.join(tmp))\n",
    "    \n",
    "    return sentences"
   ]
  },
  {
   "cell_type": "code",
   "execution_count": 26,
   "metadata": {},
   "outputs": [
    {
     "data": {
      "text/plain": [
       "'모르시는 대구분들 계신가용'"
      ]
     },
     "execution_count": 26,
     "metadata": {},
     "output_type": "execute_result"
    }
   ],
   "source": [
    "s = '모르시는 대구분들 계신가용~?'\n",
    "cleanReview(s)"
   ]
  },
  {
   "cell_type": "code",
   "execution_count": 43,
   "metadata": {},
   "outputs": [
    {
     "name": "stdout",
     "output_type": "stream",
     "text": [
      "원본 문장:  로마노 진짜 달달하고 맛있고 아이스크림라떼도 꼬소하고 달달하고 진짜 맛있어요!! 마리토쪼도 크림 부드럽고 빵도 포실포실🥰 재방문 의사 있어요\n",
      "문장 분리:  [Sentence(text='로마노 진짜 달달하고 맛있고 아이스크림라떼도 꼬소하고 달달하고 진짜 맛있어요!!', start=0, end=44, tokens=[Token(form='로마노', tag='NNP', start=0, len=3), Token(form='진짜', tag='MAG', start=4, len=2), Token(form='달달하', tag='VA', start=7, len=3), Token(form='고', tag='EC', start=10, len=1), Token(form='맛있', tag='VA', start=12, len=2), Token(form='고', tag='EC', start=14, len=1), Token(form='아이스크림', tag='NNG', start=16, len=5), Token(form='라', tag='NNG', start=21, len=1), Token(form='떼', tag='NNG', start=22, len=1), Token(form='도', tag='JX', start=23, len=1), Token(form='꼬소', tag='NNG', start=25, len=2), Token(form='하', tag='XSA', start=27, len=1), Token(form='고', tag='EC', start=28, len=1), Token(form='달달하', tag='VA', start=30, len=3), Token(form='고', tag='EC', start=33, len=1), Token(form='진짜', tag='MAG', start=35, len=2), Token(form='맛있', tag='VA', start=38, len=2), Token(form='어요', tag='EF', start=40, len=2), Token(form='!!', tag='SF', start=42, len=2)], subs=[]), Sentence(text='마리토쪼도 크림 부드럽고 빵도 포실포실 재방문 의사 있어요', start=45, end=77, tokens=[Token(form='마리토쪼도', tag='NNG', start=45, len=5), Token(form='크림', tag='NNG', start=51, len=2), Token(form='부드럽', tag='VA-I', start=54, len=3), Token(form='고', tag='EC', start=57, len=1), Token(form='빵', tag='NNG', start=59, len=1), Token(form='도', tag='JX', start=60, len=1), Token(form='포실포실', tag='MAG', start=62, len=4), Token(form='재', tag='XPN', start=67, len=1), Token(form='방문', tag='NNG', start=68, len=2), Token(form='의사', tag='NNG', start=71, len=2), Token(form='있', tag='VA', start=74, len=1), Token(form='어요', tag='EF', start=75, len=2)], subs=[])]\n",
      "\n",
      "원본 문장:  커조남 커피는 힐링입니다 소금빵도 맛있어요\n",
      "문장 분리:  [Sentence(text='커조남 커피는 힐링입니다', start=0, end=13, tokens=[Token(form='커조남', tag='NNG', start=0, len=3), Token(form='커피', tag='NNG', start=4, len=2), Token(form='는', tag='JX', start=6, len=1), Token(form='힐링', tag='NNP', start=8, len=2), Token(form='이', tag='VCP', start=10, len=1), Token(form='ᆸ니다', tag='EF', start=10, len=3)], subs=[]), Sentence(text='소금빵도 맛있어요', start=14, end=23, tokens=[Token(form='소금', tag='NNG', start=14, len=2), Token(form='빵', tag='NNG', start=16, len=1), Token(form='도', tag='JX', start=17, len=1), Token(form='맛있', tag='VA', start=19, len=2), Token(form='어요', tag='EF', start=21, len=2)], subs=[])]\n",
      "\n"
     ]
    }
   ],
   "source": [
    "for i in range(3, 5):\n",
    "    review = data['review'][i]\n",
    "    print('원본 문장: ', review)\n",
    "    re_wo_emoji = core.replace_emoji(review, replace=\"\")\n",
    "    sents = kiwi.split_into_sents(re_wo_emoji, return_tokens=True)\n",
    "    print('문장 분리: ', sents)\n",
    "    print()    "
   ]
  },
  {
   "cell_type": "code",
   "execution_count": 42,
   "metadata": {},
   "outputs": [
    {
     "name": "stdout",
     "output_type": "stream",
     "text": [
      "원본 문장:  맛있어요~\n",
      "특수 문자 제거:  맛있어요~\n",
      "문장 분리:  ['맛있어요~']\n",
      "\n",
      "원본 문장:  만족도 최상의 커피맛집\n",
      "특수 문자 제거:  만족도 최상의 커피맛집\n",
      "문장 분리:  ['만족도 최상의 커피 맛집']\n",
      "\n",
      "원본 문장:  찐 커피맛집ㅎㅎ\n",
      "특수 문자 제거:  찐 커피맛집ㅎㅎ\n",
      "문장 분리:  ['찐 커피 맛집 ㅎㅎ']\n",
      "\n",
      "원본 문장:  로마노 진짜 달달하고 맛있고 아이스크림라떼도 꼬소하고 달달하고 진짜 맛있어요!! 마리토쪼도 크림 부드럽고 빵도 포실포실🥰 재방문 의사 있어요\n",
      "특수 문자 제거:  로마노 진짜 달달하고 맛있고 아이스크림라떼도 꼬소하고 달달하고 진짜 맛있어요!! 마리토쪼도 크림 부드럽고 빵도 포실포실 재방문 의사 있어요\n",
      "문장 분리:  ['로마노 진짜 달달하고 맛있고 아이스크림 라 떼도 꼬소하고 달달하고 진짜 맛있어요!!', '마리토쪼도 크림 부드럽고 빵도 포실포실 재방문 의사 있어요']\n",
      "\n",
      "원본 문장:  커조남 커피는 힐링입니다 소금빵도 맛있어요\n",
      "특수 문자 제거:  커조남 커피는 힐링입니다 소금빵도 맛있어요\n",
      "문장 분리:  ['커조남 커피는 힐링입니다', '소금 빵도 맛있어요']\n",
      "\n"
     ]
    }
   ],
   "source": [
    "for i in range(5):\n",
    "    review = data['review'][i]\n",
    "    print('원본 문장: ', review)\n",
    "    re_wo_emoji = cleanReview(review)\n",
    "    # re_wo_emoji = core.replace_emoji(review, replace=\"\")\n",
    "    print('특수 문자 제거: ', re_wo_emoji)\n",
    "    sents = revToSent(re_wo_emoji)\n",
    "    print('문장 분리: ', sents)\n",
    "    print()    "
   ]
  },
  {
   "cell_type": "code",
   "execution_count": 8,
   "metadata": {},
   "outputs": [
    {
     "name": "stdout",
     "output_type": "stream",
     "text": [
      "[Sentence(text='시나몬롤 맛있어용 ✨', start=0, end=11, tokens=None, subs=[]), Sentence(text='하지만 소금빵은 동굴이 없고 좀 말라있어서 아쉬웠어요', start=12, end=41, tokens=None, subs=[])]\n",
      "[Sentence(text='드립커피하면 커조남!', start=0, end=11, tokens=None, subs=[]), Sentence(text='오늘 드립커피는 좀 애매한 맛이긴 했지만 리필커피가 맛있어서 괜춘~바로 앞 공영주차장에 주차가능', start=12, end=65, tokens=None, subs=[])]\n",
      "[Sentence(text='최애 커피집입니다 ㅎㅎ', start=0, end=12, tokens=None, subs=[]), Sentence(text='앞산에 있을 때 부터 좋아하던 곳이라 계속가게되네요', start=13, end=41, tokens=None, subs=[]), Sentence(text='크리스마스페어에서도 로마노 한잔~^^ 더웠는데 시원하게 상큼하게 잘마셨습니다', start=43, end=85, tokens=None, subs=[])]\n",
      "[Sentence(text='커피맛집👍', start=0, end=5, tokens=None, subs=[])]\n",
      "[Sentence(text='커피맛을 조금 아는 남자가 반갑게 맞아주는\\n찐 커피 맛집!!', start=0, end=33, tokens=None, subs=[])]\n"
     ]
    }
   ],
   "source": [
    "\n",
    "\n",
    "for review in data['review']:\n",
    "    sentence = kiwi.split_into_sents(data['review'][i])\n",
    "    print(sentence)"
   ]
  }
 ],
 "metadata": {
  "kernelspec": {
   "display_name": "Python 3.8.10 64-bit",
   "language": "python",
   "name": "python3"
  },
  "language_info": {
   "codemirror_mode": {
    "name": "ipython",
    "version": 3
   },
   "file_extension": ".py",
   "mimetype": "text/x-python",
   "name": "python",
   "nbconvert_exporter": "python",
   "pygments_lexer": "ipython3",
   "version": "3.8.10"
  },
  "orig_nbformat": 4,
  "vscode": {
   "interpreter": {
    "hash": "e655501cde564f2054c1ea7839a2b8d9d7f47fe8b3eaa7a598e847358d1239d1"
   }
  }
 },
 "nbformat": 4,
 "nbformat_minor": 2
}

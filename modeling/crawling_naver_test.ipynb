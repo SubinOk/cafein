{
 "cells": [
  {
   "cell_type": "code",
   "execution_count": 35,
   "metadata": {},
   "outputs": [],
   "source": [
    "# 최신순으로 최근 3달 리뷰 크롤링\n",
    "# 날짜, 리뷰 내용\n",
    "# 크롬 108.xx 버전"
   ]
  },
  {
   "cell_type": "code",
   "execution_count": 36,
   "metadata": {},
   "outputs": [],
   "source": [
    "import pandas as pd\n",
    "import requests\n",
    "from bs4 import BeautifulSoup\n",
    "\n",
    "from selenium import webdriver\n",
    "from selenium.webdriver.common.by import By\n",
    "from selenium.webdriver.common.keys import Keys\n",
    "from selenium.webdriver import ActionChains\n",
    "from selenium.common.exceptions import NoSuchElementException\n",
    "\n",
    "import time\n",
    "from datetime import datetime"
   ]
  },
  {
   "cell_type": "code",
   "execution_count": 37,
   "metadata": {},
   "outputs": [],
   "source": [
    "def findCafe(phone, name):\n",
    "    url = f'https://m.map.naver.com/search2/searchMore.naver?query={phone}&page=1'\n",
    "    response = requests.get(url)\n",
    "    places = response.json()['result']['site']['list']\n",
    "    for place in places:\n",
    "        if place['name'] == name:\n",
    "            return place['id'][1:]"
   ]
  },
  {
   "cell_type": "code",
   "execution_count": 38,
   "metadata": {},
   "outputs": [],
   "source": [
    "def dateCal(str):\n",
    "    date = str.split(\" \")\n",
    "    year = int(date[0][:-1])\n",
    "    month = int(date[1][:-1])\n",
    "    day = int(date[2][:-1])\n",
    "    \n",
    "    return datetime(year, month, day)"
   ]
  },
  {
   "cell_type": "code",
   "execution_count": 39,
   "metadata": {},
   "outputs": [],
   "source": [
    "cafeNames = [\n",
    "    '빵굽는커피공장',\n",
    "    '글루미',\n",
    "    '마마다이닝'\n",
    "]\n",
    "\n",
    "cafeNums = [\n",
    "    '053-422-3833', # 빵굽는커피공장\n",
    "    '0507-1331-5449', # 글루미\n",
    "    '0507-1374-2778' # 마마다이닝\n",
    "]\n",
    "\n",
    "cafeIDs = [\n",
    "    '19675007', # 빵굽는커피공장\n",
    "    '1431782782', # 글루미\n",
    "    '1696700298' # 마마다이닝\n",
    "]"
   ]
  },
  {
   "cell_type": "code",
   "execution_count": 40,
   "metadata": {},
   "outputs": [],
   "source": [
    "# for cafeName, cafeNum in zip(cafeNames, cafeNums):\n",
    "#     cafeID = findCafe(cafeNum, cafeName)\n",
    "#     cafeIDs.append(cafeID)\n",
    "#     print(cafeID)"
   ]
  },
  {
   "cell_type": "code",
   "execution_count": 41,
   "metadata": {},
   "outputs": [],
   "source": [
    "def clickMore(driver, days=90):\n",
    "    now = datetime.now()\n",
    "\n",
    "    while True: \n",
    "            try: \n",
    "                driver.find_element(By.TAG_NAME, 'body').send_keys(Keys.END)\n",
    "                time.sleep(1)\n",
    "                driver.find_element(By.TAG_NAME, 'body').send_keys(Keys.PAGE_UP)\n",
    "                time.sleep(1) \n",
    "                \n",
    "                date = driver.find_element(By.CSS_SELECTOR, '.eCPGL > li:nth-last-child(1) > div:nth-last-child(1) > span > span:nth-last-child(1)').text\n",
    "                \n",
    "                dt = dateCal(date)\n",
    "                diff = (now-dt).total_seconds()//86400\n",
    "                \n",
    "                if diff > days: # 맨 마지막 리뷰 일자가 90일 이전이면 멈춤\n",
    "                    break\n",
    "                \n",
    "                driver.find_element(By.CSS_SELECTOR, '.lfH3O > a').click()\n",
    "                time.sleep(2)           \n",
    "                \n",
    "                \n",
    "            except NoSuchElementException: \n",
    "                print('-더보기 버튼 모두 클릭 완료-') \n",
    "                break "
   ]
  },
  {
   "cell_type": "code",
   "execution_count": 42,
   "metadata": {},
   "outputs": [],
   "source": [
    "def seeDetails(driver, action):\n",
    "    elements = driver.find_elements(By.CSS_SELECTOR, '.YeINN')\n",
    "\n",
    "    for element in elements:\n",
    "        more = element.find_elements(By.CSS_SELECTOR, '.ZZ4OK > a > .rvCSr')\n",
    "        if len(more) > 0:\n",
    "            action.move_to_element(element).perform()\n",
    "            time.sleep(1)\n",
    "            more[0].click()"
   ]
  },
  {
   "cell_type": "code",
   "execution_count": 46,
   "metadata": {},
   "outputs": [],
   "source": [
    "def scrapReviews(html, cafename, cafelist, datelist, reviewlist):\n",
    "    dom = BeautifulSoup(html, 'lxml')\n",
    "\n",
    "    reviews = dom.select('.YeINN > .ZZ4OK > a > span:nth-child(1)')\n",
    "    dates = dom.select('.YeINN > div:nth-last-child(1) > span > span:nth-last-child(1)')\n",
    "\n",
    "    try: \n",
    "        for date, review in zip(dates, reviews): \n",
    "            \n",
    "            day = dateCal(date.text)\n",
    "            text = review.text\n",
    "        \n",
    "            cafelist.append(cafename)\n",
    "            datelist.append(day)\n",
    "            reviewlist.append(text)\n",
    "\n",
    "    # 리뷰가 없는 경우        \n",
    "    except NoSuchElementException: \n",
    "        print(\"네이버 리뷰 없음\" )"
   ]
  },
  {
   "cell_type": "code",
   "execution_count": 44,
   "metadata": {},
   "outputs": [],
   "source": [
    "options = webdriver.ChromeOptions()\n",
    "options.add_argument('headless')\n",
    "\n",
    "driver = webdriver.Chrome(options=options)\n",
    "action = ActionChains(driver)"
   ]
  },
  {
   "cell_type": "code",
   "execution_count": 47,
   "metadata": {},
   "outputs": [
    {
     "name": "stdout",
     "output_type": "stream",
     "text": [
      "빵굽는커피공장 리뷰 수집 완료\n",
      "글루미 리뷰 수집 완료\n"
     ]
    },
    {
     "ename": "ElementClickInterceptedException",
     "evalue": "Message: element click intercepted: Element <a href=\"#\" role=\"button\" class=\"fvwqf\">...</a> is not clickable at point (397, 131). Other element would receive the click: <span>...</span>\n  (Session info: headless chrome=108.0.5359.95)\nStacktrace:\nBacktrace:\n\t(No symbol) [0x00ACF243]\n\t(No symbol) [0x00A57FD1]\n\t(No symbol) [0x0094D04D]\n\t(No symbol) [0x009828B9]\n\t(No symbol) [0x009808CC]\n\t(No symbol) [0x0097E4CB]\n\t(No symbol) [0x0097D164]\n\t(No symbol) [0x009732A6]\n\t(No symbol) [0x0099858C]\n\t(No symbol) [0x00972BFF]\n\t(No symbol) [0x00998804]\n\t(No symbol) [0x009AC9EB]\n\t(No symbol) [0x00998386]\n\t(No symbol) [0x0097163C]\n\t(No symbol) [0x0097269D]\n\tGetHandleVerifier [0x00D69A22+2655074]\n\tGetHandleVerifier [0x00D5CA24+2601828]\n\tGetHandleVerifier [0x00B78C0A+619850]\n\tGetHandleVerifier [0x00B77830+614768]\n\t(No symbol) [0x00A605FC]\n\t(No symbol) [0x00A65968]\n\t(No symbol) [0x00A65A55]\n\t(No symbol) [0x00A7051B]\n\tBaseThreadInitThunk [0x750B7BA9+25]\n\tRtlInitializeExceptionChain [0x76F2BB9B+107]\n\tRtlClearBits [0x76F2BB1F+191]\n",
     "output_type": "error",
     "traceback": [
      "\u001b[1;31m---------------------------------------------------------------------------\u001b[0m",
      "\u001b[1;31mElementClickInterceptedException\u001b[0m          Traceback (most recent call last)",
      "Cell \u001b[1;32mIn [47], line 9\u001b[0m\n\u001b[0;32m      6\u001b[0m finalurl \u001b[39m=\u001b[39m \u001b[39mf\u001b[39m\u001b[39m'\u001b[39m\u001b[39mhttps://m.place.naver.com/restaurant/\u001b[39m\u001b[39m{\u001b[39;00mcafeID\u001b[39m}\u001b[39;00m\u001b[39m/review/visitor?reviewSort=recent\u001b[39m\u001b[39m'\u001b[39m\n\u001b[0;32m      7\u001b[0m driver\u001b[39m.\u001b[39mget(finalurl)\n\u001b[1;32m----> 9\u001b[0m clickMore(driver)\n\u001b[0;32m     10\u001b[0m time\u001b[39m.\u001b[39msleep(\u001b[39m2\u001b[39m)\n\u001b[0;32m     12\u001b[0m seeDetails(driver, action)\n",
      "Cell \u001b[1;32mIn [41], line 19\u001b[0m, in \u001b[0;36mclickMore\u001b[1;34m(driver, days)\u001b[0m\n\u001b[0;32m     16\u001b[0m     \u001b[39mif\u001b[39;00m diff \u001b[39m>\u001b[39m days: \u001b[39m# 맨 마지막 리뷰 일자가 90일 이전이면 멈춤\u001b[39;00m\n\u001b[0;32m     17\u001b[0m         \u001b[39mbreak\u001b[39;00m\n\u001b[1;32m---> 19\u001b[0m     driver\u001b[39m.\u001b[39;49mfind_element(By\u001b[39m.\u001b[39;49mCSS_SELECTOR, \u001b[39m'\u001b[39;49m\u001b[39m.lfH3O > a\u001b[39;49m\u001b[39m'\u001b[39;49m)\u001b[39m.\u001b[39;49mclick()\n\u001b[0;32m     20\u001b[0m     time\u001b[39m.\u001b[39msleep(\u001b[39m2\u001b[39m)           \n\u001b[0;32m     23\u001b[0m \u001b[39mexcept\u001b[39;00m NoSuchElementException: \n",
      "File \u001b[1;32mc:\\Users\\master\\AppData\\Local\\Programs\\Python\\Python38\\lib\\site-packages\\selenium\\webdriver\\remote\\webelement.py:93\u001b[0m, in \u001b[0;36mWebElement.click\u001b[1;34m(self)\u001b[0m\n\u001b[0;32m     91\u001b[0m \u001b[39mdef\u001b[39;00m \u001b[39mclick\u001b[39m(\u001b[39mself\u001b[39m) \u001b[39m-\u001b[39m\u001b[39m>\u001b[39m \u001b[39mNone\u001b[39;00m:\n\u001b[0;32m     92\u001b[0m     \u001b[39m\"\"\"Clicks the element.\"\"\"\u001b[39;00m\n\u001b[1;32m---> 93\u001b[0m     \u001b[39mself\u001b[39;49m\u001b[39m.\u001b[39;49m_execute(Command\u001b[39m.\u001b[39;49mCLICK_ELEMENT)\n",
      "File \u001b[1;32mc:\\Users\\master\\AppData\\Local\\Programs\\Python\\Python38\\lib\\site-packages\\selenium\\webdriver\\remote\\webelement.py:410\u001b[0m, in \u001b[0;36mWebElement._execute\u001b[1;34m(self, command, params)\u001b[0m\n\u001b[0;32m    408\u001b[0m     params \u001b[39m=\u001b[39m {}\n\u001b[0;32m    409\u001b[0m params[\u001b[39m\"\u001b[39m\u001b[39mid\u001b[39m\u001b[39m\"\u001b[39m] \u001b[39m=\u001b[39m \u001b[39mself\u001b[39m\u001b[39m.\u001b[39m_id\n\u001b[1;32m--> 410\u001b[0m \u001b[39mreturn\u001b[39;00m \u001b[39mself\u001b[39;49m\u001b[39m.\u001b[39;49m_parent\u001b[39m.\u001b[39;49mexecute(command, params)\n",
      "File \u001b[1;32mc:\\Users\\master\\AppData\\Local\\Programs\\Python\\Python38\\lib\\site-packages\\selenium\\webdriver\\remote\\webdriver.py:444\u001b[0m, in \u001b[0;36mWebDriver.execute\u001b[1;34m(self, driver_command, params)\u001b[0m\n\u001b[0;32m    442\u001b[0m response \u001b[39m=\u001b[39m \u001b[39mself\u001b[39m\u001b[39m.\u001b[39mcommand_executor\u001b[39m.\u001b[39mexecute(driver_command, params)\n\u001b[0;32m    443\u001b[0m \u001b[39mif\u001b[39;00m response:\n\u001b[1;32m--> 444\u001b[0m     \u001b[39mself\u001b[39;49m\u001b[39m.\u001b[39;49merror_handler\u001b[39m.\u001b[39;49mcheck_response(response)\n\u001b[0;32m    445\u001b[0m     response[\u001b[39m\"\u001b[39m\u001b[39mvalue\u001b[39m\u001b[39m\"\u001b[39m] \u001b[39m=\u001b[39m \u001b[39mself\u001b[39m\u001b[39m.\u001b[39m_unwrap_value(response\u001b[39m.\u001b[39mget(\u001b[39m\"\u001b[39m\u001b[39mvalue\u001b[39m\u001b[39m\"\u001b[39m, \u001b[39mNone\u001b[39;00m))\n\u001b[0;32m    446\u001b[0m     \u001b[39mreturn\u001b[39;00m response\n",
      "File \u001b[1;32mc:\\Users\\master\\AppData\\Local\\Programs\\Python\\Python38\\lib\\site-packages\\selenium\\webdriver\\remote\\errorhandler.py:249\u001b[0m, in \u001b[0;36mErrorHandler.check_response\u001b[1;34m(self, response)\u001b[0m\n\u001b[0;32m    247\u001b[0m         alert_text \u001b[39m=\u001b[39m value[\u001b[39m\"\u001b[39m\u001b[39malert\u001b[39m\u001b[39m\"\u001b[39m]\u001b[39m.\u001b[39mget(\u001b[39m\"\u001b[39m\u001b[39mtext\u001b[39m\u001b[39m\"\u001b[39m)\n\u001b[0;32m    248\u001b[0m     \u001b[39mraise\u001b[39;00m exception_class(message, screen, stacktrace, alert_text)  \u001b[39m# type: ignore[call-arg]  # mypy is not smart enough here\u001b[39;00m\n\u001b[1;32m--> 249\u001b[0m \u001b[39mraise\u001b[39;00m exception_class(message, screen, stacktrace)\n",
      "\u001b[1;31mElementClickInterceptedException\u001b[0m: Message: element click intercepted: Element <a href=\"#\" role=\"button\" class=\"fvwqf\">...</a> is not clickable at point (397, 131). Other element would receive the click: <span>...</span>\n  (Session info: headless chrome=108.0.5359.95)\nStacktrace:\nBacktrace:\n\t(No symbol) [0x00ACF243]\n\t(No symbol) [0x00A57FD1]\n\t(No symbol) [0x0094D04D]\n\t(No symbol) [0x009828B9]\n\t(No symbol) [0x009808CC]\n\t(No symbol) [0x0097E4CB]\n\t(No symbol) [0x0097D164]\n\t(No symbol) [0x009732A6]\n\t(No symbol) [0x0099858C]\n\t(No symbol) [0x00972BFF]\n\t(No symbol) [0x00998804]\n\t(No symbol) [0x009AC9EB]\n\t(No symbol) [0x00998386]\n\t(No symbol) [0x0097163C]\n\t(No symbol) [0x0097269D]\n\tGetHandleVerifier [0x00D69A22+2655074]\n\tGetHandleVerifier [0x00D5CA24+2601828]\n\tGetHandleVerifier [0x00B78C0A+619850]\n\tGetHandleVerifier [0x00B77830+614768]\n\t(No symbol) [0x00A605FC]\n\t(No symbol) [0x00A65968]\n\t(No symbol) [0x00A65A55]\n\t(No symbol) [0x00A7051B]\n\tBaseThreadInitThunk [0x750B7BA9+25]\n\tRtlInitializeExceptionChain [0x76F2BB9B+107]\n\tRtlClearBits [0x76F2BB1F+191]\n"
     ]
    }
   ],
   "source": [
    "cafes = []\n",
    "days = []\n",
    "re = []\n",
    "\n",
    "for cafeID, cafeName in zip(cafeIDs, cafeNames):\n",
    "    finalurl = f'https://m.place.naver.com/restaurant/{cafeID}/review/visitor?reviewSort=recent'\n",
    "    driver.get(finalurl)\n",
    "\n",
    "    clickMore(driver)\n",
    "    time.sleep(2)\n",
    "\n",
    "    seeDetails(driver, action)\n",
    "\n",
    "    html = driver.page_source\n",
    "\n",
    "    scrapReviews(html, cafeName, cafes, days, re)\n",
    "    print(f'{cafeName} 리뷰 수집 완료')\n",
    "\n",
    "driver.quit()"
   ]
  },
  {
   "cell_type": "code",
   "execution_count": 48,
   "metadata": {},
   "outputs": [],
   "source": [
    "driver.quit()"
   ]
  },
  {
   "cell_type": "code",
   "execution_count": 49,
   "metadata": {},
   "outputs": [],
   "source": [
    "driver = webdriver.Chrome()\n",
    "action = ActionChains(driver)"
   ]
  },
  {
   "cell_type": "code",
   "execution_count": 51,
   "metadata": {},
   "outputs": [
    {
     "name": "stdout",
     "output_type": "stream",
     "text": [
      "마마다이닝 리뷰 수집 완료\n"
     ]
    }
   ],
   "source": [
    "finalurl = f'https://m.place.naver.com/restaurant/{cafeIDs[2]}/review/visitor?reviewSort=recent'\n",
    "driver.get(finalurl)\n",
    "\n",
    "clickMore(driver)\n",
    "time.sleep(2)\n",
    "\n",
    "seeDetails(driver, action)\n",
    "\n",
    "html = driver.page_source\n",
    "\n",
    "scrapReviews(html, cafeName, cafes, days, re)\n",
    "print(f'{cafeName} 리뷰 수집 완료')"
   ]
  },
  {
   "cell_type": "code",
   "execution_count": 52,
   "metadata": {},
   "outputs": [],
   "source": [
    "df = pd.DataFrame({'cafeName':cafes,\n",
    "                   'date': days,\n",
    "                   'review': re\n",
    "                   })"
   ]
  },
  {
   "cell_type": "code",
   "execution_count": 53,
   "metadata": {},
   "outputs": [
    {
     "data": {
      "text/html": [
       "<div>\n",
       "<style scoped>\n",
       "    .dataframe tbody tr th:only-of-type {\n",
       "        vertical-align: middle;\n",
       "    }\n",
       "\n",
       "    .dataframe tbody tr th {\n",
       "        vertical-align: top;\n",
       "    }\n",
       "\n",
       "    .dataframe thead th {\n",
       "        text-align: right;\n",
       "    }\n",
       "</style>\n",
       "<table border=\"1\" class=\"dataframe\">\n",
       "  <thead>\n",
       "    <tr style=\"text-align: right;\">\n",
       "      <th></th>\n",
       "      <th>cafeName</th>\n",
       "      <th>date</th>\n",
       "      <th>review</th>\n",
       "    </tr>\n",
       "  </thead>\n",
       "  <tbody>\n",
       "    <tr>\n",
       "      <th>0</th>\n",
       "      <td>빵굽는커피공장</td>\n",
       "      <td>2022-12-02</td>\n",
       "      <td>조용하고 분위기 넘 좋아요</td>\n",
       "    </tr>\n",
       "    <tr>\n",
       "      <th>1</th>\n",
       "      <td>빵굽는커피공장</td>\n",
       "      <td>2022-11-19</td>\n",
       "      <td>조아용</td>\n",
       "    </tr>\n",
       "    <tr>\n",
       "      <th>2</th>\n",
       "      <td>빵굽는커피공장</td>\n",
       "      <td>2022-11-08</td>\n",
       "      <td>ㅇ</td>\n",
       "    </tr>\n",
       "    <tr>\n",
       "      <th>3</th>\n",
       "      <td>빵굽는커피공장</td>\n",
       "      <td>2022-11-02</td>\n",
       "      <td>굿</td>\n",
       "    </tr>\n",
       "    <tr>\n",
       "      <th>4</th>\n",
       "      <td>빵굽는커피공장</td>\n",
       "      <td>2022-10-29</td>\n",
       "      <td>ㅇ</td>\n",
       "    </tr>\n",
       "  </tbody>\n",
       "</table>\n",
       "</div>"
      ],
      "text/plain": [
       "  cafeName       date          review\n",
       "0  빵굽는커피공장 2022-12-02  조용하고 분위기 넘 좋아요\n",
       "1  빵굽는커피공장 2022-11-19             조아용\n",
       "2  빵굽는커피공장 2022-11-08               ㅇ\n",
       "3  빵굽는커피공장 2022-11-02               굿\n",
       "4  빵굽는커피공장 2022-10-29               ㅇ"
      ]
     },
     "execution_count": 53,
     "metadata": {},
     "output_type": "execute_result"
    }
   ],
   "source": [
    "df.head()"
   ]
  },
  {
   "cell_type": "code",
   "execution_count": 54,
   "metadata": {},
   "outputs": [
    {
     "data": {
      "text/html": [
       "<div>\n",
       "<style scoped>\n",
       "    .dataframe tbody tr th:only-of-type {\n",
       "        vertical-align: middle;\n",
       "    }\n",
       "\n",
       "    .dataframe tbody tr th {\n",
       "        vertical-align: top;\n",
       "    }\n",
       "\n",
       "    .dataframe thead th {\n",
       "        text-align: right;\n",
       "    }\n",
       "</style>\n",
       "<table border=\"1\" class=\"dataframe\">\n",
       "  <thead>\n",
       "    <tr style=\"text-align: right;\">\n",
       "      <th></th>\n",
       "      <th>cafeName</th>\n",
       "      <th>date</th>\n",
       "      <th>review</th>\n",
       "    </tr>\n",
       "  </thead>\n",
       "  <tbody>\n",
       "    <tr>\n",
       "      <th>296</th>\n",
       "      <td>마마다이닝</td>\n",
       "      <td>2022-09-17</td>\n",
       "      <td>메론빙수가 이렇게 사랑스러워 보일수가..\\n메론 진짜 완전 달았어요♥︎\\n메론빙수 ...</td>\n",
       "    </tr>\n",
       "    <tr>\n",
       "      <th>297</th>\n",
       "      <td>마마다이닝</td>\n",
       "      <td>2022-09-17</td>\n",
       "      <td>이쁘네요.</td>\n",
       "    </tr>\n",
       "    <tr>\n",
       "      <th>298</th>\n",
       "      <td>마마다이닝</td>\n",
       "      <td>2022-09-16</td>\n",
       "      <td>♡♡</td>\n",
       "    </tr>\n",
       "    <tr>\n",
       "      <th>299</th>\n",
       "      <td>마마다이닝</td>\n",
       "      <td>2022-09-14</td>\n",
       "      <td>빙수랑 티랑 잘 마시고 갑니다!</td>\n",
       "    </tr>\n",
       "    <tr>\n",
       "      <th>300</th>\n",
       "      <td>마마다이닝</td>\n",
       "      <td>2022-09-14</td>\n",
       "      <td>늦은시간까지 시내에서 하는 카페 별로 없는데 여긴 늦은시간에도 하고 디저트도 다양하...</td>\n",
       "    </tr>\n",
       "  </tbody>\n",
       "</table>\n",
       "</div>"
      ],
      "text/plain": [
       "    cafeName       date                                             review\n",
       "296    마마다이닝 2022-09-17  메론빙수가 이렇게 사랑스러워 보일수가..\\n메론 진짜 완전 달았어요♥︎\\n메론빙수 ...\n",
       "297    마마다이닝 2022-09-17                                             이쁘네요. \n",
       "298    마마다이닝 2022-09-16                                                 ♡♡\n",
       "299    마마다이닝 2022-09-14                                  빙수랑 티랑 잘 마시고 갑니다!\n",
       "300    마마다이닝 2022-09-14  늦은시간까지 시내에서 하는 카페 별로 없는데 여긴 늦은시간에도 하고 디저트도 다양하..."
      ]
     },
     "execution_count": 54,
     "metadata": {},
     "output_type": "execute_result"
    }
   ],
   "source": [
    "df.tail()"
   ]
  },
  {
   "cell_type": "code",
   "execution_count": 57,
   "metadata": {},
   "outputs": [],
   "source": [
    "df.to_csv('./data/test_data.csv', index=False, encoding='utf-8-sig')"
   ]
  }
 ],
 "metadata": {
  "kernelspec": {
   "display_name": "Python 3.8.10 64-bit",
   "language": "python",
   "name": "python3"
  },
  "language_info": {
   "codemirror_mode": {
    "name": "ipython",
    "version": 3
   },
   "file_extension": ".py",
   "mimetype": "text/x-python",
   "name": "python",
   "nbconvert_exporter": "python",
   "pygments_lexer": "ipython3",
   "version": "3.8.10"
  },
  "orig_nbformat": 4,
  "vscode": {
   "interpreter": {
    "hash": "e655501cde564f2054c1ea7839a2b8d9d7f47fe8b3eaa7a598e847358d1239d1"
   }
  }
 },
 "nbformat": 4,
 "nbformat_minor": 2
}

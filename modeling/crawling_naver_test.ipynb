{
 "cells": [
  {
   "cell_type": "code",
   "execution_count": 1,
   "metadata": {},
   "outputs": [],
   "source": [
    "# 최신순으로 최근 3달 리뷰 크롤링\n",
    "# 날짜, 리뷰 내용\n",
    "# 크롬 108.xx 버전"
   ]
  },
  {
   "cell_type": "code",
   "execution_count": 2,
   "metadata": {},
   "outputs": [],
   "source": [
    "import pandas as pd\n",
    "import requests\n",
    "from bs4 import BeautifulSoup\n",
    "\n",
    "from selenium import webdriver\n",
    "from selenium.webdriver.common.by import By\n",
    "from selenium.webdriver.common.keys import Keys\n",
    "from selenium.common.exceptions import NoSuchElementException\n",
    "\n",
    "import time\n",
    "from datetime import datetime"
   ]
  },
  {
   "cell_type": "code",
   "execution_count": 4,
   "metadata": {},
   "outputs": [],
   "source": [
    "def findCafe(phone, name):\n",
    "    url = f'https://m.map.naver.com/search2/searchMore.naver?query={phone}&page=1'\n",
    "    response = requests.get(url)\n",
    "    places = response.json()['result']['site']['list']\n",
    "    for place in places:\n",
    "        if place['name'] == name:\n",
    "            return place['id'][1:]"
   ]
  },
  {
   "cell_type": "code",
   "execution_count": 8,
   "metadata": {},
   "outputs": [],
   "source": [
    "def dateCal(str):\n",
    "    date = str.split(\" \")\n",
    "    year = int(date[0][:-1])\n",
    "    month = int(date[1][:-1])\n",
    "    day = int(date[2][:-1])\n",
    "    \n",
    "    return datetime(year, month, day)"
   ]
  },
  {
   "cell_type": "code",
   "execution_count": 3,
   "metadata": {},
   "outputs": [],
   "source": [
    "cafeName = '팡팡팡'\n",
    "cafeNum = '053-252-2025'\n",
    "cafeID = \"\""
   ]
  },
  {
   "cell_type": "code",
   "execution_count": 5,
   "metadata": {},
   "outputs": [
    {
     "data": {
      "text/plain": [
       "'1347974588'"
      ]
     },
     "execution_count": 5,
     "metadata": {},
     "output_type": "execute_result"
    }
   ],
   "source": [
    "cafeID = findCafe(cafeNum, cafeName)\n",
    "cafeID"
   ]
  },
  {
   "cell_type": "code",
   "execution_count": 6,
   "metadata": {},
   "outputs": [],
   "source": [
    "finalurl = f'https://m.place.naver.com/restaurant/{cafeID}/review/visitor?reviewSort=recent'"
   ]
  },
  {
   "cell_type": "code",
   "execution_count": 7,
   "metadata": {},
   "outputs": [],
   "source": [
    "driver = webdriver.Chrome()\n",
    "driver.get(finalurl)"
   ]
  },
  {
   "cell_type": "code",
   "execution_count": 9,
   "metadata": {},
   "outputs": [
    {
     "name": "stdout",
     "output_type": "stream",
     "text": [
      "4.0\n",
      "9.0\n",
      "12.0\n",
      "18.0\n",
      "20.0\n",
      "24.0\n",
      "27.0\n",
      "29.0\n",
      "32.0\n"
     ]
    },
    {
     "ename": "KeyboardInterrupt",
     "evalue": "",
     "output_type": "error",
     "traceback": [
      "\u001b[1;31m---------------------------------------------------------------------------\u001b[0m",
      "\u001b[1;31mKeyboardInterrupt\u001b[0m                         Traceback (most recent call last)",
      "Cell \u001b[1;32mIn [9], line 6\u001b[0m\n\u001b[0;32m      4\u001b[0m \u001b[39mtry\u001b[39;00m: \n\u001b[0;32m      5\u001b[0m     driver\u001b[39m.\u001b[39mfind_element(By\u001b[39m.\u001b[39mTAG_NAME, \u001b[39m'\u001b[39m\u001b[39mbody\u001b[39m\u001b[39m'\u001b[39m)\u001b[39m.\u001b[39msend_keys(Keys\u001b[39m.\u001b[39mEND)\n\u001b[1;32m----> 6\u001b[0m     time\u001b[39m.\u001b[39;49msleep(\u001b[39m1\u001b[39;49m)\n\u001b[0;32m      7\u001b[0m     driver\u001b[39m.\u001b[39mfind_element(By\u001b[39m.\u001b[39mTAG_NAME, \u001b[39m'\u001b[39m\u001b[39mbody\u001b[39m\u001b[39m'\u001b[39m)\u001b[39m.\u001b[39msend_keys(Keys\u001b[39m.\u001b[39mPAGE_UP)\n\u001b[0;32m      8\u001b[0m     time\u001b[39m.\u001b[39msleep(\u001b[39m1\u001b[39m) \n",
      "\u001b[1;31mKeyboardInterrupt\u001b[0m: "
     ]
    }
   ],
   "source": [
    "now = datetime.now()\n",
    "\n",
    "while True: \n",
    "        try: \n",
    "            driver.find_element(By.TAG_NAME, 'body').send_keys(Keys.END)\n",
    "            time.sleep(1)\n",
    "            driver.find_element(By.TAG_NAME, 'body').send_keys(Keys.PAGE_UP)\n",
    "            time.sleep(1) \n",
    "            \n",
    "            date = driver.find_element(By.CSS_SELECTOR, '.eCPGL > li:nth-last-child(1) > div:nth-last-child(1) > span > span:nth-last-child(1)').text\n",
    "            \n",
    "            dt = dateCal(date)\n",
    "            diff = (now-dt).total_seconds()//86400\n",
    "            \n",
    "            if diff > 90: # 맨 마지막 리뷰 일자가 90일 이전이면 멈춤\n",
    "                break\n",
    "            \n",
    "            driver.find_element(By.CSS_SELECTOR, '.lfH3O > a').click()\n",
    "            time.sleep(2)           \n",
    "            \n",
    "            \n",
    "        except NoSuchElementException: \n",
    "            print('-더보기 버튼 모두 클릭 완료-') \n",
    "            break "
   ]
  },
  {
   "cell_type": "code",
   "execution_count": 10,
   "metadata": {},
   "outputs": [],
   "source": [
    "html = driver.page_source \n",
    "dom = BeautifulSoup(html, 'lxml')"
   ]
  },
  {
   "cell_type": "code",
   "execution_count": 21,
   "metadata": {},
   "outputs": [
    {
     "data": {
      "text/plain": [
       "96"
      ]
     },
     "execution_count": 21,
     "metadata": {},
     "output_type": "execute_result"
    }
   ],
   "source": [
    "reviews = dom.select('.YeINN > .ZZ4OK > a > span')\n",
    "dates = dom.select('.YeINN > div:nth-last-child(1) > span > span:nth-last-child(1)')\n",
    "len(reviews)"
   ]
  },
  {
   "cell_type": "code",
   "execution_count": 28,
   "metadata": {},
   "outputs": [],
   "source": [
    "cafes = []\n",
    "days = []\n",
    "re = []"
   ]
  },
  {
   "cell_type": "code",
   "execution_count": 29,
   "metadata": {},
   "outputs": [],
   "source": [
    "try: \n",
    "    for date, review in zip(dates, reviews): \n",
    "        \n",
    "        day = dateCal(date.text)\n",
    "        text = review.text\n",
    "    \n",
    "        cafes.append(cafeName)\n",
    "        days.append(day)\n",
    "        re.append(text)\n",
    "\n",
    "# 리뷰가 없는 경우        \n",
    "except NoSuchElementException: \n",
    "    print(\"네이버 리뷰 없음\" )"
   ]
  },
  {
   "cell_type": "code",
   "execution_count": 31,
   "metadata": {},
   "outputs": [],
   "source": [
    "df = pd.DataFrame({'cafeName':cafes,\n",
    "                   'date': days,\n",
    "                   'review': re\n",
    "                   })"
   ]
  },
  {
   "cell_type": "code",
   "execution_count": 32,
   "metadata": {},
   "outputs": [
    {
     "data": {
      "text/html": [
       "<div>\n",
       "<style scoped>\n",
       "    .dataframe tbody tr th:only-of-type {\n",
       "        vertical-align: middle;\n",
       "    }\n",
       "\n",
       "    .dataframe tbody tr th {\n",
       "        vertical-align: top;\n",
       "    }\n",
       "\n",
       "    .dataframe thead th {\n",
       "        text-align: right;\n",
       "    }\n",
       "</style>\n",
       "<table border=\"1\" class=\"dataframe\">\n",
       "  <thead>\n",
       "    <tr style=\"text-align: right;\">\n",
       "      <th></th>\n",
       "      <th>cafeName</th>\n",
       "      <th>date</th>\n",
       "      <th>review</th>\n",
       "    </tr>\n",
       "  </thead>\n",
       "  <tbody>\n",
       "    <tr>\n",
       "      <th>0</th>\n",
       "      <td>팡팡팡</td>\n",
       "      <td>2022-12-06</td>\n",
       "      <td>조용하고넓어서좋아요</td>\n",
       "    </tr>\n",
       "    <tr>\n",
       "      <th>1</th>\n",
       "      <td>팡팡팡</td>\n",
       "      <td>2022-12-05</td>\n",
       "      <td>10시50분 마감이라 늦게까지 하고 넓어서 좋아요 하지만 10시이후는 드립이나 디카...</td>\n",
       "    </tr>\n",
       "    <tr>\n",
       "      <th>2</th>\n",
       "      <td>팡팡팡</td>\n",
       "      <td>2022-12-04</td>\n",
       "      <td>빵이 조금 달아요 커피는 맛있어요</td>\n",
       "    </tr>\n",
       "    <tr>\n",
       "      <th>3</th>\n",
       "      <td>팡팡팡</td>\n",
       "      <td>2022-12-04</td>\n",
       "      <td>매장두 넓고 빵들이 미쳤어요 ㅠㅠ\\n비슷한 곳으로 디저트3*가 있는데 거긴 너무 어...</td>\n",
       "    </tr>\n",
       "    <tr>\n",
       "      <th>4</th>\n",
       "      <td>팡팡팡</td>\n",
       "      <td>2022-12-04</td>\n",
       "      <td>대구 최고의 베이커리 카페입니다!</td>\n",
       "    </tr>\n",
       "  </tbody>\n",
       "</table>\n",
       "</div>"
      ],
      "text/plain": [
       "  cafeName       date                                             review\n",
       "0      팡팡팡 2022-12-06                                         조용하고넓어서좋아요\n",
       "1      팡팡팡 2022-12-05  10시50분 마감이라 늦게까지 하고 넓어서 좋아요 하지만 10시이후는 드립이나 디카...\n",
       "2      팡팡팡 2022-12-04                                 빵이 조금 달아요 커피는 맛있어요\n",
       "3      팡팡팡 2022-12-04  매장두 넓고 빵들이 미쳤어요 ㅠㅠ\\n비슷한 곳으로 디저트3*가 있는데 거긴 너무 어...\n",
       "4      팡팡팡 2022-12-04                                 대구 최고의 베이커리 카페입니다!"
      ]
     },
     "execution_count": 32,
     "metadata": {},
     "output_type": "execute_result"
    }
   ],
   "source": [
    "df.head()"
   ]
  }
 ],
 "metadata": {
  "kernelspec": {
   "display_name": "Python 3.8.10 64-bit",
   "language": "python",
   "name": "python3"
  },
  "language_info": {
   "codemirror_mode": {
    "name": "ipython",
    "version": 3
   },
   "file_extension": ".py",
   "mimetype": "text/x-python",
   "name": "python",
   "nbconvert_exporter": "python",
   "pygments_lexer": "ipython3",
   "version": "3.8.10"
  },
  "orig_nbformat": 4,
  "vscode": {
   "interpreter": {
    "hash": "e655501cde564f2054c1ea7839a2b8d9d7f47fe8b3eaa7a598e847358d1239d1"
   }
  }
 },
 "nbformat": 4,
 "nbformat_minor": 2
}

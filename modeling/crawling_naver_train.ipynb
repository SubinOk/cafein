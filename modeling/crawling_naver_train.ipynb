{
 "cells": [
  {
   "cell_type": "code",
   "execution_count": 11,
   "metadata": {},
   "outputs": [],
   "source": [
    "# 최신순으로 최근 50개 리뷰 크롤링\n",
    "# 날짜, 리뷰 내용\n",
    "# 크롬 108.xx 버전"
   ]
  },
  {
   "cell_type": "code",
   "execution_count": 12,
   "metadata": {},
   "outputs": [],
   "source": [
    "import pandas as pd\n",
    "import requests\n",
    "from bs4 import BeautifulSoup\n",
    "\n",
    "from selenium import webdriver\n",
    "from selenium.webdriver.common.by import By\n",
    "from selenium.webdriver.common.keys import Keys\n",
    "from selenium.common.exceptions import NoSuchElementException\n",
    "\n",
    "import time"
   ]
  },
  {
   "cell_type": "code",
   "execution_count": 13,
   "metadata": {},
   "outputs": [],
   "source": [
    "cafeName = '팡팡팡'\n",
    "cafeNum = '053-252-2025'\n",
    "cafeID = \"\""
   ]
  },
  {
   "cell_type": "code",
   "execution_count": 14,
   "metadata": {},
   "outputs": [],
   "source": [
    "def findCafe(phone, name):\n",
    "    url = f'https://m.map.naver.com/search2/searchMore.naver?query={phone}&page=1'\n",
    "    response = requests.get(url)\n",
    "    places = response.json()['result']['site']['list']\n",
    "    for place in places:\n",
    "        if place['name'] == name:\n",
    "            return place['id'][1:]"
   ]
  },
  {
   "cell_type": "code",
   "execution_count": 15,
   "metadata": {},
   "outputs": [
    {
     "data": {
      "text/plain": [
       "'1347974588'"
      ]
     },
     "execution_count": 15,
     "metadata": {},
     "output_type": "execute_result"
    }
   ],
   "source": [
    "cafeID = findCafe(cafeNum, cafeName)\n",
    "cafeID"
   ]
  },
  {
   "cell_type": "code",
   "execution_count": 16,
   "metadata": {},
   "outputs": [],
   "source": [
    "finalurl = f'https://m.place.naver.com/restaurant/{cafeID}/review/visitor?reviewSort=recent'\n"
   ]
  },
  {
   "cell_type": "code",
   "execution_count": 17,
   "metadata": {},
   "outputs": [],
   "source": [
    "driver = webdriver.Chrome()\n",
    "driver.get(finalurl)"
   ]
  },
  {
   "cell_type": "code",
   "execution_count": 18,
   "metadata": {},
   "outputs": [
    {
     "name": "stdout",
     "output_type": "stream",
     "text": [
      "2022년 12월 3일 토요일\n",
      "2022년 11월 26일 토요일\n"
     ]
    },
    {
     "ename": "KeyboardInterrupt",
     "evalue": "",
     "output_type": "error",
     "traceback": [
      "\u001b[1;31m---------------------------------------------------------------------------\u001b[0m",
      "\u001b[1;31mKeyboardInterrupt\u001b[0m                         Traceback (most recent call last)",
      "\u001b[1;32mc:\\Users\\User\\OneDrive - GIST\\AIVLE_tmp\\crawling_naver.ipynb 셀 8\u001b[0m in \u001b[0;36m<cell line: 2>\u001b[1;34m()\u001b[0m\n\u001b[0;32m      <a href='vscode-notebook-cell:/c%3A/Users/User/OneDrive%20-%20GIST/AIVLE_tmp/crawling_naver.ipynb#X16sZmlsZQ%3D%3D?line=1'>2</a>\u001b[0m \u001b[39mwhile\u001b[39;00m i\u001b[39m<\u001b[39m\u001b[39m5\u001b[39m: \n\u001b[0;32m      <a href='vscode-notebook-cell:/c%3A/Users/User/OneDrive%20-%20GIST/AIVLE_tmp/crawling_naver.ipynb#X16sZmlsZQ%3D%3D?line=2'>3</a>\u001b[0m         \u001b[39mtry\u001b[39;00m: \n\u001b[1;32m----> <a href='vscode-notebook-cell:/c%3A/Users/User/OneDrive%20-%20GIST/AIVLE_tmp/crawling_naver.ipynb#X16sZmlsZQ%3D%3D?line=3'>4</a>\u001b[0m             time\u001b[39m.\u001b[39;49msleep(\u001b[39m1\u001b[39;49m) \n\u001b[0;32m      <a href='vscode-notebook-cell:/c%3A/Users/User/OneDrive%20-%20GIST/AIVLE_tmp/crawling_naver.ipynb#X16sZmlsZQ%3D%3D?line=4'>5</a>\u001b[0m             driver\u001b[39m.\u001b[39mfind_element(By\u001b[39m.\u001b[39mTAG_NAME, \u001b[39m'\u001b[39m\u001b[39mbody\u001b[39m\u001b[39m'\u001b[39m)\u001b[39m.\u001b[39msend_keys(Keys\u001b[39m.\u001b[39mEND)\n\u001b[0;32m      <a href='vscode-notebook-cell:/c%3A/Users/User/OneDrive%20-%20GIST/AIVLE_tmp/crawling_naver.ipynb#X16sZmlsZQ%3D%3D?line=5'>6</a>\u001b[0m             driver\u001b[39m.\u001b[39mfind_element(By\u001b[39m.\u001b[39mTAG_NAME, \u001b[39m'\u001b[39m\u001b[39mbody\u001b[39m\u001b[39m'\u001b[39m)\u001b[39m.\u001b[39msend_keys(Keys\u001b[39m.\u001b[39mPAGE_UP) \n",
      "\u001b[1;31mKeyboardInterrupt\u001b[0m: "
     ]
    }
   ],
   "source": [
    "i=0\n",
    "while i<5: \n",
    "        try: \n",
    "            time.sleep(1) \n",
    "            driver.find_element(By.TAG_NAME, 'body').send_keys(Keys.END)\n",
    "            driver.find_element(By.TAG_NAME, 'body').send_keys(Keys.PAGE_UP) \n",
    "            time.sleep(3) \n",
    "            \n",
    "            date = driver.find_element(By.CSS_SELECTOR, '.eCPGL > li:nth-last-child(1) > div:nth-last-child(1) > span > span:nth-last-child(1)').text\n",
    "            date = date.split(\" \")\n",
    "            year = date[0][:-1]\n",
    "            month = date[1]\n",
    "            day = date[2]\n",
    "            weekday = date[3]\n",
    "            print(date)\n",
    "            \n",
    "            driver.find_element(By.CSS_SELECTOR, '.lfH3O > a').click() \n",
    "            time.sleep(3)\n",
    "            i+=1\n",
    "            \n",
    "        except NoSuchElementException: \n",
    "            print('-더보기 버튼 모두 클릭 완료-') \n",
    "            break "
   ]
  },
  {
   "cell_type": "code",
   "execution_count": 25,
   "metadata": {},
   "outputs": [
    {
     "ename": "TypeError",
     "evalue": "'>' not supported between instances of 'datetime.timedelta' and 'str'",
     "output_type": "error",
     "traceback": [
      "\u001b[1;31m---------------------------------------------------------------------------\u001b[0m",
      "\u001b[1;31mTypeError\u001b[0m                                 Traceback (most recent call last)",
      "\u001b[1;32mc:\\Users\\User\\OneDrive - GIST\\AIVLE_tmp\\crawling_naver.ipynb 셀 9\u001b[0m in \u001b[0;36m<cell line: 11>\u001b[1;34m()\u001b[0m\n\u001b[0;32m      <a href='vscode-notebook-cell:/c%3A/Users/User/OneDrive%20-%20GIST/AIVLE_tmp/crawling_naver.ipynb#X40sZmlsZQ%3D%3D?line=8'>9</a>\u001b[0m now \u001b[39m=\u001b[39m datetime\u001b[39m.\u001b[39mnow()\n\u001b[0;32m     <a href='vscode-notebook-cell:/c%3A/Users/User/OneDrive%20-%20GIST/AIVLE_tmp/crawling_naver.ipynb#X40sZmlsZQ%3D%3D?line=9'>10</a>\u001b[0m dt \u001b[39m=\u001b[39m datetime(year, month, day)\n\u001b[1;32m---> <a href='vscode-notebook-cell:/c%3A/Users/User/OneDrive%20-%20GIST/AIVLE_tmp/crawling_naver.ipynb#X40sZmlsZQ%3D%3D?line=10'>11</a>\u001b[0m \u001b[39mprint\u001b[39m(now\u001b[39m-\u001b[39;49mdt \u001b[39m>\u001b[39;49m \u001b[39m'\u001b[39;49m\u001b[39m30 days\u001b[39;49m\u001b[39m'\u001b[39;49m)\n",
      "\u001b[1;31mTypeError\u001b[0m: '>' not supported between instances of 'datetime.timedelta' and 'str'"
     ]
    }
   ],
   "source": [
    "from datetime import datetime\n",
    "\n",
    "date = '2022년 12월 3일 토요일'\n",
    "date = date.split(\" \")\n",
    "year = int(date[0][:-1])\n",
    "month = int(date[1][:-1])\n",
    "day = int(date[2][:-1])\n",
    "# print(year, month, day, weekday)\n",
    "now = datetime.now()\n",
    "dt = datetime(year, month, day)\n",
    "print(now-dt > '30 days')"
   ]
  },
  {
   "cell_type": "code",
   "execution_count": 26,
   "metadata": {},
   "outputs": [],
   "source": [
    "html = driver.page_source \n",
    "soup = BeautifulSoup(html, 'lxml')"
   ]
  },
  {
   "cell_type": "code",
   "execution_count": null,
   "metadata": {},
   "outputs": [],
   "source": [
    "soup"
   ]
  },
  {
   "cell_type": "code",
   "execution_count": 28,
   "metadata": {},
   "outputs": [
    {
     "name": "stdout",
     "output_type": "stream",
     "text": [
      "리뷰 총 개수 : 40\n"
     ]
    }
   ],
   "source": [
    "one_review = soup.select('.YeINN')\n",
    "review_num = len(one_review) # 특정 식당의 리뷰 총 개수 \n",
    "print('리뷰 총 개수 : '+str(review_num))"
   ]
  },
  {
   "cell_type": "code",
   "execution_count": null,
   "metadata": {},
   "outputs": [],
   "source": [
    "try: \n",
    "    one_review = soup.find_all('div', attrs = {'class':'_1Z_GL'})\n",
    "    review_num = len(one_review) # 특정 식당의 리뷰 총 개수 \n",
    "    print('리뷰 총 개수 : '+str(review_num)) \n",
    "    \n",
    "    # 모든 리뷰에 대해서 정보 수집\n",
    "    for i in range(len(one_review)): \n",
    "        \n",
    "        # user url\n",
    "        user_url = one_review[i].find('div', attrs = {'class':'_23Rml'}).find('a').get('href')\n",
    "        print('user_url = '+user_url) \n",
    "        \n",
    "        # user url로부터 user code 뽑아내기\n",
    "        user_code = re.findall(r\"my/(\\w+)\", user_url)[0]\n",
    "        print('user_code = '+user_code) \n",
    "        \n",
    "        # review 1개에 대한 id 만들기 \n",
    "        res_code = re.findall(r\"restaurant/(\\d+)\", thisurl)[0] \n",
    "        review_id = str(res_code)+\"_\"+user_code\n",
    "        print('review_id = '+review_id) \n",
    "        \n",
    "        # rating, 별점 \n",
    "        rating = one_review[i].find('span', attrs = {'class':'_2tObC'}).text\n",
    "        print('rating = '+rating) \n",
    "        \n",
    "        ## 주의\n",
    "        ## 사진 리뷰 유무에 따라 날짜 파싱코드가 다르기 때문에\n",
    "        ## case 별로 처리해줘야 함\n",
    "        ## ('span', attrs = {'class':'_3WqoL'}) \n",
    "        ## 사진 없는 경우 : 총 6개 중 4번째 \n",
    "        ## 사진 있는 경우 : 총 5개 중 3번째 \n",
    "            \n",
    "        # date \n",
    "        # 사진 리뷰 없음 \n",
    "        if len(one_review[i].find_all('span', attrs = {'class':'_3WqoL'})) == 5: \n",
    "            date = one_review[i].find_all('span', attrs = {'class':'_3WqoL'})[2].text \n",
    "\n",
    "        elif len(one_review[i].find_all('span', attrs = {'class':'_3WqoL'})) == 6: \n",
    "            date = one_review[i].find_all('span', attrs = {'class':'_3WqoL'})[3].text\n",
    "\n",
    "        else: \n",
    "            date = \"\"\n",
    "        \n",
    "        print('date = '+date) \n",
    "\n",
    "        \n",
    "        # review 내용\n",
    "        try: \n",
    "            review_content = one_review[i].find('span', attrs = {'class':'WoYOw'}).text\n",
    "        except: # 리뷰가 없다면\n",
    "            review_content = \"\" \n",
    "        print('리뷰 내용 : '+review_content) \n",
    "        \n",
    "\n",
    "        # image 내용\n",
    "        sliced_soup = one_review[i].find('div', attrs = {'class':'_1aFEL _2GO1Q'}) \n",
    "        \n",
    "        if (sliced_soup != None): \n",
    "            sliced_soup = sliced_soup.find('div',attrs={'class':'dRZ2X'}) \n",
    "            \n",
    "            try: \n",
    "                img_url = 'https://search.pstatic.net/common/?autoRotate=true&quality=95&type=l&size=800x800&src='+re.findall(r'src=(.*jpeg)', str(sliced_soup))[0] \n",
    "            \n",
    "            except : \n",
    "                if (len(re.findall(r'src=(.*jpg)', str(sliced_soup)))!= 0): \n",
    "                    img_url = 'https://search.pstatic.net/common/?autoRotate=true&quality=95&type=l&size=800x800&src='+re.findall(r'src=(.*jpg)', str(sliced_soup))[0]\n",
    "                elif (len(re.findall(r'src=(.*png)', str(sliced_soup)))!= 0): \n",
    "                    img_url = 'https://search.pstatic.net/common/?autoRotate=true&quality=95&type=l&size=800x800&src='+re.findall(r'src=(.*png)', str(sliced_soup))[0]\n",
    "                else : \n",
    "                    img_url = \"\"\n",
    "        \n",
    "        else: \n",
    "            img_url = \"\" \n",
    "        \n",
    "        \n",
    "        print('이미지 url : '+img_url) \n",
    "        print('----------------------------------------------') \n",
    "        print('\\n') \n",
    "        \n",
    "        \n",
    "        # 리뷰정보 \n",
    "        # user_review_id\n",
    "        user_review_id[restaurant_name][user_code] = review_id \n",
    "        \n",
    "        # review_json \n",
    "        review_json[restaurant_name][review_id] = review_content \n",
    "        \n",
    "        # image_json \n",
    "        image_json[restaurant_name][review_id] = img_url \n",
    "        \n",
    "        # rating_df_list \n",
    "        naver_review = user_code, restaurant_name, rating, date\n",
    "        rating_list.append(naver_review) \n",
    "\n",
    "# 리뷰가 없는 경우        \n",
    "except NoSuchElementException: \n",
    "    none_review = \"네이버 리뷰 없음\" \n",
    "    print(none_review)\n",
    "    review_num = 0 \n",
    "    \n",
    "    # 리뷰정보 = restaurant_name, restaurant_classification, review_num, none_review \n",
    "    \n",
    "    # rating_df_list\n",
    "    naver_review = user_code, restaurant_name, none_review, none_reivew\n",
    "    rating_list.append(naver_review)"
   ]
  },
  {
   "cell_type": "code",
   "execution_count": null,
   "metadata": {},
   "outputs": [],
   "source": [
    "url = \"https://pcmap-api.place.naver.com/graphql\"\n",
    "\n",
    "headers = {\n",
    "    \"user-agent\": \"Mozilla/5.0 (Windows NT 10.0; Win64; x64) AppleWebKit/537.36 (KHTML, like Gecko) Chrome/106.0.5249.207 Whale/3.17.145.18 Safari/537.36\", \n",
    "    \"referer\": \"https://pcmap.place.naver.com/restaurant/1347974588/review/visitor\",\n",
    "    \"authority\": \"pcmap-api.place.naver.com\",\n",
    "    \"origin\": \"https://pcmap.place.naver.com\",\n",
    "    \"sec-ch-ua\": '\"Whale\";v=\"3\", \" Not;A Brand\";v=\"99\", \"Chromium\";v=\"106\"',\n",
    "    \"sec-fetch-site\": \"same-site\"\n",
    "}"
   ]
  },
  {
   "cell_type": "code",
   "execution_count": null,
   "metadata": {},
   "outputs": [],
   "source": [
    "params = [{\"operationName\":\"getVisitorReviews\",\n",
    "           \"variables\":{\n",
    "                \"input\":{\n",
    "                    \"businessId\":\"1347974588\",\n",
    "                    \"businessType\":\"restaurant\",\n",
    "                    \"item\":\"0\",\n",
    "                    \"bookingBusinessId\":None,\n",
    "                    \"page\":3,\n",
    "                    \"size\":10,\n",
    "                    \"isPhotoUsed\":False,\n",
    "                    \"includeContent\":True,\n",
    "                    \"getUserStats\":True,\n",
    "                    \"includeReceiptPhotos\":True,\n",
    "                    \"cidList\":[\"220036\",\"220052\",\"220563\"]\n",
    "                },\n",
    "                \"id\":\"1347974588\"\n",
    "            },\n",
    "            \"query\":\"query getVisitorReviews($input: VisitorReviewsInput) {\\n  visitorReviews(input: $input) {\\n    items {\\n      id\\n      rating\\n      author {\\n        id\\n        nickname\\n        from\\n        imageUrl\\n        objectId\\n        url\\n        review {\\n          totalCount\\n          imageCount\\n          avgRating\\n          __typename\\n        }\\n        theme {\\n          totalCount\\n          __typename\\n        }\\n        __typename\\n      }\\n      body\\n      thumbnail\\n      media {\\n        type\\n        thumbnail\\n        class\\n        __typename\\n      }\\n      tags\\n      status\\n      visitCount\\n      viewCount\\n      visited\\n      created\\n      reply {\\n        editUrl\\n        body\\n        editedBy\\n        created\\n        replyTitle\\n        __typename\\n      }\\n      originType\\n      item {\\n        name\\n        code\\n        options\\n        __typename\\n      }\\n      language\\n      highlightOffsets\\n      apolloCacheId\\n      translatedText\\n      businessName\\n      showBookingItemName\\n      showBookingItemOptions\\n      bookingItemName\\n      bookingItemOptions\\n      votedKeywords {\\n        code\\n        iconUrl\\n        iconCode\\n        displayName\\n        __typename\\n      }\\n      userIdno\\n      isFollowing\\n      followerCount\\n      followRequested\\n      loginIdno\\n      receiptInfoUrl\\n      __typename\\n    }\\n    starDistribution {\\n      score\\n      count\\n      __typename\\n    }\\n    hideProductSelectBox\\n    total\\n    showRecommendationSort\\n    itemReviewStats {\\n      score\\n      count\\n      itemId\\n      starDistribution {\\n        score\\n        count\\n        __typename\\n      }\\n      __typename\\n    }\\n    __typename\\n  }\\n}\\n\"\n",
    "}]"
   ]
  },
  {
   "cell_type": "code",
   "execution_count": null,
   "metadata": {},
   "outputs": [],
   "source": [
    "getVisitorReviews($input: VisitorReviewsInput) {\n",
    "    visitorReviews(input: $input) {\n",
    "        items {\n",
    "            id rating author {\n",
    "                id nickname from imageUrl objectId url review {\n",
    "                    totalCount imageCount avgRating __typename\n",
    "                }\n",
    "                theme {\n",
    "                    totalCount\n",
    "                    __typename\n",
    "                }\n",
    "                __typename\n",
    "            }\n",
    "            body thumbnail media {\n",
    "                type thumbnail class __typename\n",
    "            }\n",
    "            tags status visitCount viewCount visited created reply {\n",
    "                editUrl body editedBy created replyTitle __typename\n",
    "            }\n",
    "            originType item {\n",
    "                name code options __typename\n",
    "            }\n",
    "            language highlightOffsets apolloCacheId translatedText businessName showBookingItemName showBookingItemOptions bookingItemName bookingItemOptions votedKeywords {\n",
    "                code iconUrl iconCode displayName __typename \n",
    "            }\n",
    "            userIdno isFollowing followerCount followRequested loginIdno receiptInfoUrl __typename\n",
    "        }\n",
    "        starDistribution {\n",
    "            score count __typename\n",
    "        }\n",
    "        hideProductSelectBox total showRecommendationSort itemReviewStats {\n",
    "            score count itemId starDistribution {\n",
    "                score count __typename \n",
    "            }\n",
    "            __typename\n",
    "        }\n",
    "        __typename\n",
    "    }\n",
    "}"
   ]
  },
  {
   "cell_type": "code",
   "execution_count": null,
   "metadata": {},
   "outputs": [
    {
     "data": {
      "text/plain": [
       "<Response [429]>"
      ]
     },
     "execution_count": 52,
     "metadata": {},
     "output_type": "execute_result"
    }
   ],
   "source": [
    "response = requests.post(url, params)\n",
    "response"
   ]
  },
  {
   "cell_type": "code",
   "execution_count": null,
   "metadata": {},
   "outputs": [],
   "source": [
    "dom = BeautifulSoup(response.text, \"html.parser\") "
   ]
  },
  {
   "cell_type": "code",
   "execution_count": null,
   "metadata": {},
   "outputs": [],
   "source": [
    "dom.select('script')"
   ]
  },
  {
   "cell_type": "code",
   "execution_count": null,
   "metadata": {},
   "outputs": [],
   "source": [
    "reviews = dom.find_all('div', attrs = {'class':'_1Z_GL'})\n"
   ]
  },
  {
   "cell_type": "code",
   "execution_count": null,
   "metadata": {},
   "outputs": [
    {
     "data": {
      "text/plain": [
       "[]"
      ]
     },
     "execution_count": 19,
     "metadata": {},
     "output_type": "execute_result"
    }
   ],
   "source": [
    "reviews"
   ]
  },
  {
   "cell_type": "code",
   "execution_count": null,
   "metadata": {},
   "outputs": [
    {
     "data": {
      "text/plain": [
       "0"
      ]
     },
     "execution_count": 69,
     "metadata": {},
     "output_type": "execute_result"
    }
   ],
   "source": [
    "elements = dom.select(\".eCPGL > li\")\n",
    "len(elements)"
   ]
  },
  {
   "cell_type": "code",
   "execution_count": null,
   "metadata": {},
   "outputs": [],
   "source": [
    "\"\"\"\n",
    "\n",
    "\n",
    "정보 뭐뭐 빼올지\n",
    "    - 네이버: 날짜, 태그, ...\n",
    "        ㄴ 키워드는 통계로만 받아도 되구,,\n",
    "    - 카카오: \n",
    "    - 구글:\n",
    "\n",
    "-\n",
    "레드마인 내용 추가\n",
    "레퍼 찾기 !!\n",
    "\n",
    "카페 / 메뉴 호불호\n",
    "키워드 << 좋은 키워드 나쁜 키워드 top 10\n",
    "\n",
    "\"\"\""
   ]
  }
 ],
 "metadata": {
  "kernelspec": {
   "display_name": "Python 3.9.13 64-bit",
   "language": "python",
   "name": "python3"
  },
  "language_info": {
   "codemirror_mode": {
    "name": "ipython",
    "version": 3
   },
   "file_extension": ".py",
   "mimetype": "text/x-python",
   "name": "python",
   "nbconvert_exporter": "python",
   "pygments_lexer": "ipython3",
   "version": "3.9.13"
  },
  "orig_nbformat": 4,
  "vscode": {
   "interpreter": {
    "hash": "cf92aa13fedf815d5c8dd192b8d835913fde3e8bc926b2a0ad6cc74ef2ba3ca2"
   }
  }
 },
 "nbformat": 4,
 "nbformat_minor": 2
}

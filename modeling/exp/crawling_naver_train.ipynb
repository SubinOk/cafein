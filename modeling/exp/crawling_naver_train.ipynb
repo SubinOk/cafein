{
 "cells": [
  {
   "cell_type": "code",
   "execution_count": 1,
   "metadata": {},
   "outputs": [],
   "source": [
    "# 최신순으로 리뷰 내용 50건씩 크롤링\n",
    "# 크롬 108.xx 버전"
   ]
  },
  {
   "cell_type": "code",
   "execution_count": 2,
   "metadata": {},
   "outputs": [],
   "source": [
    "import pandas as pd\n",
    "import requests\n",
    "from bs4 import BeautifulSoup\n",
    "\n",
    "from selenium import webdriver\n",
    "from selenium.webdriver.common.by import By\n",
    "from selenium.webdriver.common.keys import Keys\n",
    "from selenium.webdriver import ActionChains\n",
    "from selenium.common.exceptions import NoSuchElementException\n",
    "\n",
    "import time"
   ]
  },
  {
   "cell_type": "code",
   "execution_count": 3,
   "metadata": {},
   "outputs": [],
   "source": [
    "def findCafe(phone, name):\n",
    "    url = f'https://m.map.naver.com/search2/searchMore.naver?query={phone}&page=1'\n",
    "    response = requests.get(url)\n",
    "    places = response.json()['result']['site']['list']\n",
    "    for place in places:\n",
    "        if place['name'] == name:\n",
    "            return place['id'][1:]"
   ]
  },
  {
   "cell_type": "code",
   "execution_count": 4,
   "metadata": {},
   "outputs": [],
   "source": [
    "cafeNames = [\n",
    "    '헤이안',\n",
    "    '헤이메르',\n",
    "    '간절곶 카페루아',\n",
    "    '카페하든',\n",
    "    '카페파도',\n",
    "    '보사노바 커피로스터스 삼척점',\n",
    "    '뺑드엘리시안',\n",
    "    '서귀피안 베이커리',\n",
    "    'PNB 풍년제과 본점',\n",
    "    'Auspice coffee'\n",
    "]\n",
    "\n",
    "cafeNums = [\n",
    "    '054-252-0200', # 헤이안\n",
    "    '052-238-0333', # 헤이메르\n",
    "    '0507-1319-0965', # 간절곶 카페루아\n",
    "    '0507-1306-7034', # 카페하든\n",
    "    '0507-1334-3118', # 카페파도\n",
    "    '033-573-0338', # 보사노바 커피로스터스 삼척점\n",
    "    '0507-1388-2622', # 뺑드엘리시안\n",
    "    '0507-1338-8378', # 서귀피안 베이커리\n",
    "    '0507-1426-6666', # PNB 풍년제과 본점\n",
    "    '0507-1305-0628' # Auspice coffee\n",
    "]\n",
    "\n",
    "cafeIDs = []"
   ]
  },
  {
   "cell_type": "code",
   "execution_count": 5,
   "metadata": {},
   "outputs": [],
   "source": [
    "for cafeName, cafeNum in zip(cafeNames, cafeNums):\n",
    "    cafeID = findCafe(cafeNum, cafeName)\n",
    "    cafeIDs.append(cafeID)\n",
    "    time.sleep(5)"
   ]
  },
  {
   "cell_type": "code",
   "execution_count": 6,
   "metadata": {},
   "outputs": [],
   "source": [
    "def clickMore(driver, count=5):\n",
    "    i = 0\n",
    "\n",
    "    while i < count: \n",
    "            try: \n",
    "                driver.find_element(By.TAG_NAME, 'body').send_keys(Keys.END)\n",
    "                time.sleep(1)\n",
    "                driver.find_element(By.TAG_NAME, 'body').send_keys(Keys.PAGE_UP)\n",
    "                time.sleep(1) \n",
    "            \n",
    "                driver.find_element(By.CSS_SELECTOR, '.lfH3O > a').click()\n",
    "                time.sleep(2)\n",
    "\n",
    "                i +=1\n",
    "                \n",
    "            except NoSuchElementException: \n",
    "                print('-더보기 버튼 모두 클릭 완료-') \n",
    "                break "
   ]
  },
  {
   "cell_type": "code",
   "execution_count": 7,
   "metadata": {},
   "outputs": [],
   "source": [
    "def seeDetails(driver, action):\n",
    "    elements = driver.find_elements(By.CSS_SELECTOR, '.YeINN')\n",
    "\n",
    "    for element in elements:\n",
    "        more = element.find_elements(By.CSS_SELECTOR, '.ZZ4OK > a > .rvCSr')\n",
    "        if len(more) > 0:\n",
    "            action.move_to_element(element).perform()\n",
    "            time.sleep(1)\n",
    "            more[0].click()"
   ]
  },
  {
   "cell_type": "code",
   "execution_count": 8,
   "metadata": {},
   "outputs": [],
   "source": [
    "def scrapReviews(html, cafename, cafelist, reviewlist):\n",
    "    dom = BeautifulSoup(html, 'lxml')\n",
    "\n",
    "    reviews = dom.select('.YeINN > .ZZ4OK > a > span:nth-child(1)')\n",
    "    \n",
    "    try: \n",
    "        for review in reviews: \n",
    "            \n",
    "            text = review.text\n",
    "        \n",
    "            cafelist.append(cafename)\n",
    "            reviewlist.append(text)\n",
    "\n",
    "    # 리뷰가 없는 경우        \n",
    "    except NoSuchElementException: \n",
    "        print(\"네이버 리뷰 없음\" )"
   ]
  },
  {
   "cell_type": "code",
   "execution_count": 9,
   "metadata": {},
   "outputs": [],
   "source": [
    "options = webdriver.ChromeOptions()\n",
    "options.add_argument('headless')\n",
    "\n",
    "# driver = webdriver.Chrome(options=options)\n",
    "driver = webdriver.Chrome()\n",
    "action = ActionChains(driver)"
   ]
  },
  {
   "cell_type": "code",
   "execution_count": 10,
   "metadata": {},
   "outputs": [
    {
     "name": "stdout",
     "output_type": "stream",
     "text": [
      "헤이안 리뷰 수집 완료\n",
      "헤이메르 리뷰 수집 완료\n",
      "간절곶 카페루아 리뷰 수집 완료\n",
      "카페하든 리뷰 수집 완료\n",
      "카페파도 리뷰 수집 완료\n",
      "보사노바 커피로스터스 삼척점 리뷰 수집 완료\n",
      "뺑드엘리시안 리뷰 수집 완료\n",
      "서귀피안 베이커리 리뷰 수집 완료\n",
      "PNB 풍년제과 본점 리뷰 수집 완료\n",
      "Auspice coffee 리뷰 수집 완료\n"
     ]
    }
   ],
   "source": [
    "cafes = []\n",
    "re = []\n",
    "\n",
    "for cafeID, cafeName in zip(cafeIDs, cafeNames):\n",
    "    finalurl = f'https://m.place.naver.com/restaurant/{cafeID}/review/visitor?reviewSort=recent'\n",
    "    driver.get(finalurl)\n",
    "\n",
    "    clickMore(driver)\n",
    "    time.sleep(2)\n",
    "\n",
    "    seeDetails(driver, action)\n",
    "\n",
    "    html = driver.page_source\n",
    "    \n",
    "    scrapReviews(html, cafeName, cafes, re)\n",
    "    print(f'{cafeName} 리뷰 수집 완료')\n",
    "    time.sleep(3)\n",
    "\n",
    "driver.quit()"
   ]
  },
  {
   "cell_type": "code",
   "execution_count": 11,
   "metadata": {},
   "outputs": [],
   "source": [
    "df = pd.DataFrame({'cafeName':cafes,\n",
    "                   'review': re\n",
    "                   })"
   ]
  },
  {
   "cell_type": "code",
   "execution_count": 12,
   "metadata": {},
   "outputs": [
    {
     "data": {
      "text/html": [
       "<div>\n",
       "<style scoped>\n",
       "    .dataframe tbody tr th:only-of-type {\n",
       "        vertical-align: middle;\n",
       "    }\n",
       "\n",
       "    .dataframe tbody tr th {\n",
       "        vertical-align: top;\n",
       "    }\n",
       "\n",
       "    .dataframe thead th {\n",
       "        text-align: right;\n",
       "    }\n",
       "</style>\n",
       "<table border=\"1\" class=\"dataframe\">\n",
       "  <thead>\n",
       "    <tr style=\"text-align: right;\">\n",
       "      <th></th>\n",
       "      <th>cafeName</th>\n",
       "      <th>review</th>\n",
       "    </tr>\n",
       "  </thead>\n",
       "  <tbody>\n",
       "    <tr>\n",
       "      <th>0</th>\n",
       "      <td>헤이안</td>\n",
       "      <td>바다가 아ㅍ에 보이니깐 너무 조으네요.\\n빵도 맛있고 커피도 맛있어요~</td>\n",
       "    </tr>\n",
       "    <tr>\n",
       "      <th>1</th>\n",
       "      <td>헤이안</td>\n",
       "      <td>뷰가 정말 멋져요</td>\n",
       "    </tr>\n",
       "    <tr>\n",
       "      <th>2</th>\n",
       "      <td>헤이안</td>\n",
       "      <td>오션뷰 너무 예쁘고\\n카페 분위기도 취향저격이에요☺️\\n인생샷 찍고 왔어요🫰🏻</td>\n",
       "    </tr>\n",
       "    <tr>\n",
       "      <th>3</th>\n",
       "      <td>헤이안</td>\n",
       "      <td>맛집이에유</td>\n",
       "    </tr>\n",
       "    <tr>\n",
       "      <th>4</th>\n",
       "      <td>헤이안</td>\n",
       "      <td>좋아요</td>\n",
       "    </tr>\n",
       "  </tbody>\n",
       "</table>\n",
       "</div>"
      ],
      "text/plain": [
       "  cafeName                                       review\n",
       "0      헤이안      바다가 아ㅍ에 보이니깐 너무 조으네요.\\n빵도 맛있고 커피도 맛있어요~\n",
       "1      헤이안                                    뷰가 정말 멋져요\n",
       "2      헤이안  오션뷰 너무 예쁘고\\n카페 분위기도 취향저격이에요☺️\\n인생샷 찍고 왔어요🫰🏻\n",
       "3      헤이안                                        맛집이에유\n",
       "4      헤이안                                         좋아요 "
      ]
     },
     "execution_count": 12,
     "metadata": {},
     "output_type": "execute_result"
    }
   ],
   "source": [
    "df.head()"
   ]
  },
  {
   "cell_type": "code",
   "execution_count": 13,
   "metadata": {},
   "outputs": [
    {
     "data": {
      "text/html": [
       "<div>\n",
       "<style scoped>\n",
       "    .dataframe tbody tr th:only-of-type {\n",
       "        vertical-align: middle;\n",
       "    }\n",
       "\n",
       "    .dataframe tbody tr th {\n",
       "        vertical-align: top;\n",
       "    }\n",
       "\n",
       "    .dataframe thead th {\n",
       "        text-align: right;\n",
       "    }\n",
       "</style>\n",
       "<table border=\"1\" class=\"dataframe\">\n",
       "  <thead>\n",
       "    <tr style=\"text-align: right;\">\n",
       "      <th></th>\n",
       "      <th>cafeName</th>\n",
       "      <th>review</th>\n",
       "    </tr>\n",
       "  </thead>\n",
       "  <tbody>\n",
       "    <tr>\n",
       "      <th>548</th>\n",
       "      <td>Auspice coffee</td>\n",
       "      <td>핫한곳</td>\n",
       "    </tr>\n",
       "    <tr>\n",
       "      <th>549</th>\n",
       "      <td>Auspice coffee</td>\n",
       "      <td>뷰좋고 분위기좋고 화장실 깨끗하고 커피맛도 나쁘지 않았습니다.</td>\n",
       "    </tr>\n",
       "    <tr>\n",
       "      <th>550</th>\n",
       "      <td>Auspice coffee</td>\n",
       "      <td>좋아요</td>\n",
       "    </tr>\n",
       "    <tr>\n",
       "      <th>551</th>\n",
       "      <td>Auspice coffee</td>\n",
       "      <td>굿</td>\n",
       "    </tr>\n",
       "    <tr>\n",
       "      <th>552</th>\n",
       "      <td>Auspice coffee</td>\n",
       "      <td>오션뷰 카페</td>\n",
       "    </tr>\n",
       "  </tbody>\n",
       "</table>\n",
       "</div>"
      ],
      "text/plain": [
       "           cafeName                              review\n",
       "548  Auspice coffee                                 핫한곳\n",
       "549  Auspice coffee  뷰좋고 분위기좋고 화장실 깨끗하고 커피맛도 나쁘지 않았습니다.\n",
       "550  Auspice coffee                                 좋아요\n",
       "551  Auspice coffee                                   굿\n",
       "552  Auspice coffee                              오션뷰 카페"
      ]
     },
     "execution_count": 13,
     "metadata": {},
     "output_type": "execute_result"
    }
   ],
   "source": [
    "df.tail()"
   ]
  },
  {
   "cell_type": "code",
   "execution_count": 14,
   "metadata": {},
   "outputs": [],
   "source": [
    "df.to_csv('./data/train_data_2.csv', index=False, encoding='utf-8-sig')"
   ]
  },
  {
   "cell_type": "code",
   "execution_count": 19,
   "metadata": {},
   "outputs": [],
   "source": [
    "t1 = pd.read_csv('./data/train_data_1.csv', encoding='utf-8-sig')\n",
    "t2 = df.drop('cafeName', axis=1)\n",
    "\n",
    "train = pd.concat([t1, t2], axis=0)"
   ]
  },
  {
   "cell_type": "code",
   "execution_count": 20,
   "metadata": {},
   "outputs": [
    {
     "data": {
      "text/html": [
       "<div>\n",
       "<style scoped>\n",
       "    .dataframe tbody tr th:only-of-type {\n",
       "        vertical-align: middle;\n",
       "    }\n",
       "\n",
       "    .dataframe tbody tr th {\n",
       "        vertical-align: top;\n",
       "    }\n",
       "\n",
       "    .dataframe thead th {\n",
       "        text-align: right;\n",
       "    }\n",
       "</style>\n",
       "<table border=\"1\" class=\"dataframe\">\n",
       "  <thead>\n",
       "    <tr style=\"text-align: right;\">\n",
       "      <th></th>\n",
       "      <th>review</th>\n",
       "    </tr>\n",
       "  </thead>\n",
       "  <tbody>\n",
       "    <tr>\n",
       "      <th>0</th>\n",
       "      <td>맛있어요~</td>\n",
       "    </tr>\n",
       "    <tr>\n",
       "      <th>1</th>\n",
       "      <td>만족도 최상의 커피맛집</td>\n",
       "    </tr>\n",
       "    <tr>\n",
       "      <th>2</th>\n",
       "      <td>찐 커피맛집ㅎㅎ</td>\n",
       "    </tr>\n",
       "    <tr>\n",
       "      <th>3</th>\n",
       "      <td>로마노 진짜 달달하고 맛있고 아이스크림라떼도 꼬소하고 달달하고 진짜 맛있어요!! 마...</td>\n",
       "    </tr>\n",
       "    <tr>\n",
       "      <th>4</th>\n",
       "      <td>커조남 커피는 힐링입니다 소금빵도 맛있어요</td>\n",
       "    </tr>\n",
       "  </tbody>\n",
       "</table>\n",
       "</div>"
      ],
      "text/plain": [
       "                                              review\n",
       "0                                              맛있어요~\n",
       "1                                       만족도 최상의 커피맛집\n",
       "2                                           찐 커피맛집ㅎㅎ\n",
       "3  로마노 진짜 달달하고 맛있고 아이스크림라떼도 꼬소하고 달달하고 진짜 맛있어요!! 마...\n",
       "4                            커조남 커피는 힐링입니다 소금빵도 맛있어요"
      ]
     },
     "execution_count": 20,
     "metadata": {},
     "output_type": "execute_result"
    }
   ],
   "source": [
    "train.head()"
   ]
  },
  {
   "cell_type": "code",
   "execution_count": 21,
   "metadata": {},
   "outputs": [],
   "source": [
    "train.to_csv('./data/train_data.csv', index=False, encoding='utf-8-sig')"
   ]
  }
 ],
 "metadata": {
  "kernelspec": {
   "display_name": "Python 3.8.10 64-bit",
   "language": "python",
   "name": "python3"
  },
  "language_info": {
   "codemirror_mode": {
    "name": "ipython",
    "version": 3
   },
   "file_extension": ".py",
   "mimetype": "text/x-python",
   "name": "python",
   "nbconvert_exporter": "python",
   "pygments_lexer": "ipython3",
   "version": "3.8.10"
  },
  "orig_nbformat": 4,
  "vscode": {
   "interpreter": {
    "hash": "e655501cde564f2054c1ea7839a2b8d9d7f47fe8b3eaa7a598e847358d1239d1"
   }
  }
 },
 "nbformat": 4,
 "nbformat_minor": 2
}
